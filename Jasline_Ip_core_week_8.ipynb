{
  "nbformat": 4,
  "nbformat_minor": 0,
  "metadata": {
    "colab": {
      "name": "Jasline_Ip_core_week_8.ipynb",
      "provenance": [],
      "collapsed_sections": []
    },
    "kernelspec": {
      "name": "python3",
      "display_name": "Python 3"
    }
  },
  "cells": [
    {
      "cell_type": "markdown",
      "metadata": {
        "id": "G1JxqMlQkr7z",
        "colab_type": "text"
      },
      "source": [
        "# Nairobi Hospital hypothyroidism clinical camp test  \n"
      ]
    },
    {
      "cell_type": "markdown",
      "metadata": {
        "id": "bjne_MXlk79P",
        "colab_type": "text"
      },
      "source": [
        "Build a model that decides if the patient's symptoms suggest hypothyroidism."
      ]
    },
    {
      "cell_type": "markdown",
      "metadata": {
        "id": "fOgoTt4Ilrm3",
        "colab_type": "text"
      },
      "source": [
        "**Part 1**\n",
        "\n",
        "\n",
        "* Build a model to assess if the patient's symptoms mean the patient has hypothyroid or not. Take advanced models of at least 2 out of 3: random forests, Ada boosted trees, and gradient boosted trees.\n",
        "\n",
        "* Seek to optimize each of the two models, making sure you record how the hyperparameters are configured.\n",
        "\n",
        "* Identify which of the 2 models you have the most confidence in, and use your choice to de\n",
        "\n",
        "\n",
        "**Part 2**\n",
        "* Report on the data every transformation you made.\n",
        "\n",
        "* Apply the function Polynomial, linear and rbf kernel to construct your SVM model and then evaluate its output and select the kernel that performs best. Please remember to change your parameters to boost your model's efficiency. Make sure to imagine the templates you've developed to make your life easier. Use any two functions to build the models\n",
        "\n",
        "Hint: You may want to use decision trees to give you the most preferable features you can use. but also keep in mind that those features might not be suitable for SVM. It might be a good idea to graph them first.\n",
        "\n",
        "-  After getting your best performing kernel, use this kernel together with your tuned parameters and repeat the prediction but this time using additional features. Compare the model you've just created with the 2-features version. \n",
        "\n",
        "\n"
      ]
    },
    {
      "cell_type": "markdown",
      "metadata": {
        "id": "U8ehGGRRnwGR",
        "colab_type": "text"
      },
      "source": [
        "### Metrics of Success\n",
        "\n",
        "- An accuracy score greater than 90%\n",
        "- An F1 score also greater than 80%\n"
      ]
    },
    {
      "cell_type": "code",
      "metadata": {
        "id": "sIxkaA5N4z9Z",
        "colab_type": "code",
        "colab": {}
      },
      "source": [
        "\n",
        "#Load the necessary python libraries\n",
        "import pandas as pd\n",
        "import numpy as np\n",
        "import seaborn as sns\n",
        "import matplotlib.pyplot as plt\n",
        "\n",
        "#import the necessary scikit learn\n",
        "from sklearn.model_selection import train_test_split\n",
        "from sklearn.ensemble import RandomForestClassifier\n",
        "from sklearn.preprocessing import StandardScaler\n",
        "from sklearn.metrics import confusion_matrix\n",
        "from sklearn.ensemble import AdaBoostClassifier\n",
        "from sklearn.tree import DecisionTreeClassifier\n",
        "from sklearn.svm import SVC\n",
        "from sklearn.model_selection import cross_val_score\n",
        "from sklearn.pipeline import make_pipeline\n",
        "from sklearn.metrics import confusion_matrix\n",
        "from sklearn import metrics, preprocessing\n",
        "from sklearn.metrics import classification_report\n",
        "from sklearn.model_selection import RandomizedSearchCV\n",
        "from sklearn.feature_extraction.text import CountVectorizer\n",
        "from sklearn.svm import LinearSVC\n",
        "from sklearn.metrics import accuracy_score"
      ],
      "execution_count": 0,
      "outputs": []
    },
    {
      "cell_type": "code",
      "metadata": {
        "id": "9rNeNpma_yGN",
        "colab_type": "code",
        "colab": {}
      },
      "source": [
        "#Improving visual appearance of graphs\n",
        "sns.set(rc={'figure.figsize':(13,10)})\n",
        "\n",
        "#ensure all columns are displayed\n",
        "pd.pandas.set_option('display.max_columns',None)"
      ],
      "execution_count": 0,
      "outputs": []
    },
    {
      "cell_type": "code",
      "metadata": {
        "id": "wfkZ1F_Q96-s",
        "colab_type": "code",
        "outputId": "0f5587db-c12f-4030-9c98-2d5ba5a86a22",
        "colab": {
          "base_uri": "https://localhost:8080/",
          "height": 215
        }
      },
      "source": [
        "df = pd.read_csv('hypothyroid.csv')\n",
        "df.head()"
      ],
      "execution_count": 3,
      "outputs": [
        {
          "output_type": "execute_result",
          "data": {
            "text/html": [
              "<div>\n",
              "<style scoped>\n",
              "    .dataframe tbody tr th:only-of-type {\n",
              "        vertical-align: middle;\n",
              "    }\n",
              "\n",
              "    .dataframe tbody tr th {\n",
              "        vertical-align: top;\n",
              "    }\n",
              "\n",
              "    .dataframe thead th {\n",
              "        text-align: right;\n",
              "    }\n",
              "</style>\n",
              "<table border=\"1\" class=\"dataframe\">\n",
              "  <thead>\n",
              "    <tr style=\"text-align: right;\">\n",
              "      <th></th>\n",
              "      <th>status</th>\n",
              "      <th>age</th>\n",
              "      <th>sex</th>\n",
              "      <th>on_thyroxine</th>\n",
              "      <th>query_on_thyroxine</th>\n",
              "      <th>on_antithyroid_medication</th>\n",
              "      <th>thyroid_surgery</th>\n",
              "      <th>query_hypothyroid</th>\n",
              "      <th>query_hyperthyroid</th>\n",
              "      <th>pregnant</th>\n",
              "      <th>sick</th>\n",
              "      <th>tumor</th>\n",
              "      <th>lithium</th>\n",
              "      <th>goitre</th>\n",
              "      <th>TSH_measured</th>\n",
              "      <th>TSH</th>\n",
              "      <th>T3_measured</th>\n",
              "      <th>T3</th>\n",
              "      <th>TT4_measured</th>\n",
              "      <th>TT4</th>\n",
              "      <th>T4U_measured</th>\n",
              "      <th>T4U</th>\n",
              "      <th>FTI_measured</th>\n",
              "      <th>FTI</th>\n",
              "      <th>TBG_measured</th>\n",
              "      <th>TBG</th>\n",
              "    </tr>\n",
              "  </thead>\n",
              "  <tbody>\n",
              "    <tr>\n",
              "      <th>0</th>\n",
              "      <td>hypothyroid</td>\n",
              "      <td>72</td>\n",
              "      <td>M</td>\n",
              "      <td>f</td>\n",
              "      <td>f</td>\n",
              "      <td>f</td>\n",
              "      <td>f</td>\n",
              "      <td>f</td>\n",
              "      <td>f</td>\n",
              "      <td>f</td>\n",
              "      <td>f</td>\n",
              "      <td>f</td>\n",
              "      <td>f</td>\n",
              "      <td>f</td>\n",
              "      <td>y</td>\n",
              "      <td>30</td>\n",
              "      <td>y</td>\n",
              "      <td>0.60</td>\n",
              "      <td>y</td>\n",
              "      <td>15</td>\n",
              "      <td>y</td>\n",
              "      <td>1.48</td>\n",
              "      <td>y</td>\n",
              "      <td>10</td>\n",
              "      <td>n</td>\n",
              "      <td>?</td>\n",
              "    </tr>\n",
              "    <tr>\n",
              "      <th>1</th>\n",
              "      <td>hypothyroid</td>\n",
              "      <td>15</td>\n",
              "      <td>F</td>\n",
              "      <td>t</td>\n",
              "      <td>f</td>\n",
              "      <td>f</td>\n",
              "      <td>f</td>\n",
              "      <td>f</td>\n",
              "      <td>f</td>\n",
              "      <td>f</td>\n",
              "      <td>f</td>\n",
              "      <td>f</td>\n",
              "      <td>f</td>\n",
              "      <td>f</td>\n",
              "      <td>y</td>\n",
              "      <td>145</td>\n",
              "      <td>y</td>\n",
              "      <td>1.70</td>\n",
              "      <td>y</td>\n",
              "      <td>19</td>\n",
              "      <td>y</td>\n",
              "      <td>1.13</td>\n",
              "      <td>y</td>\n",
              "      <td>17</td>\n",
              "      <td>n</td>\n",
              "      <td>?</td>\n",
              "    </tr>\n",
              "    <tr>\n",
              "      <th>2</th>\n",
              "      <td>hypothyroid</td>\n",
              "      <td>24</td>\n",
              "      <td>M</td>\n",
              "      <td>f</td>\n",
              "      <td>f</td>\n",
              "      <td>f</td>\n",
              "      <td>f</td>\n",
              "      <td>f</td>\n",
              "      <td>f</td>\n",
              "      <td>f</td>\n",
              "      <td>f</td>\n",
              "      <td>f</td>\n",
              "      <td>f</td>\n",
              "      <td>f</td>\n",
              "      <td>y</td>\n",
              "      <td>0</td>\n",
              "      <td>y</td>\n",
              "      <td>0.20</td>\n",
              "      <td>y</td>\n",
              "      <td>4</td>\n",
              "      <td>y</td>\n",
              "      <td>1</td>\n",
              "      <td>y</td>\n",
              "      <td>0</td>\n",
              "      <td>n</td>\n",
              "      <td>?</td>\n",
              "    </tr>\n",
              "    <tr>\n",
              "      <th>3</th>\n",
              "      <td>hypothyroid</td>\n",
              "      <td>24</td>\n",
              "      <td>F</td>\n",
              "      <td>f</td>\n",
              "      <td>f</td>\n",
              "      <td>f</td>\n",
              "      <td>f</td>\n",
              "      <td>f</td>\n",
              "      <td>f</td>\n",
              "      <td>f</td>\n",
              "      <td>f</td>\n",
              "      <td>f</td>\n",
              "      <td>f</td>\n",
              "      <td>f</td>\n",
              "      <td>y</td>\n",
              "      <td>430</td>\n",
              "      <td>y</td>\n",
              "      <td>0.40</td>\n",
              "      <td>y</td>\n",
              "      <td>6</td>\n",
              "      <td>y</td>\n",
              "      <td>1.04</td>\n",
              "      <td>y</td>\n",
              "      <td>6</td>\n",
              "      <td>n</td>\n",
              "      <td>?</td>\n",
              "    </tr>\n",
              "    <tr>\n",
              "      <th>4</th>\n",
              "      <td>hypothyroid</td>\n",
              "      <td>77</td>\n",
              "      <td>M</td>\n",
              "      <td>f</td>\n",
              "      <td>f</td>\n",
              "      <td>f</td>\n",
              "      <td>f</td>\n",
              "      <td>f</td>\n",
              "      <td>f</td>\n",
              "      <td>f</td>\n",
              "      <td>f</td>\n",
              "      <td>f</td>\n",
              "      <td>f</td>\n",
              "      <td>f</td>\n",
              "      <td>y</td>\n",
              "      <td>7.30</td>\n",
              "      <td>y</td>\n",
              "      <td>1.20</td>\n",
              "      <td>y</td>\n",
              "      <td>57</td>\n",
              "      <td>y</td>\n",
              "      <td>1.28</td>\n",
              "      <td>y</td>\n",
              "      <td>44</td>\n",
              "      <td>n</td>\n",
              "      <td>?</td>\n",
              "    </tr>\n",
              "  </tbody>\n",
              "</table>\n",
              "</div>"
            ],
            "text/plain": [
              "        status age sex on_thyroxine query_on_thyroxine  \\\n",
              "0  hypothyroid  72   M            f                  f   \n",
              "1  hypothyroid  15   F            t                  f   \n",
              "2  hypothyroid  24   M            f                  f   \n",
              "3  hypothyroid  24   F            f                  f   \n",
              "4  hypothyroid  77   M            f                  f   \n",
              "\n",
              "  on_antithyroid_medication thyroid_surgery query_hypothyroid  \\\n",
              "0                         f               f                 f   \n",
              "1                         f               f                 f   \n",
              "2                         f               f                 f   \n",
              "3                         f               f                 f   \n",
              "4                         f               f                 f   \n",
              "\n",
              "  query_hyperthyroid pregnant sick tumor lithium goitre TSH_measured   TSH  \\\n",
              "0                  f        f    f     f       f      f            y    30   \n",
              "1                  f        f    f     f       f      f            y   145   \n",
              "2                  f        f    f     f       f      f            y     0   \n",
              "3                  f        f    f     f       f      f            y   430   \n",
              "4                  f        f    f     f       f      f            y  7.30   \n",
              "\n",
              "  T3_measured    T3 TT4_measured TT4 T4U_measured   T4U FTI_measured FTI  \\\n",
              "0           y  0.60            y  15            y  1.48            y  10   \n",
              "1           y  1.70            y  19            y  1.13            y  17   \n",
              "2           y  0.20            y   4            y     1            y   0   \n",
              "3           y  0.40            y   6            y  1.04            y   6   \n",
              "4           y  1.20            y  57            y  1.28            y  44   \n",
              "\n",
              "  TBG_measured TBG  \n",
              "0            n   ?  \n",
              "1            n   ?  \n",
              "2            n   ?  \n",
              "3            n   ?  \n",
              "4            n   ?  "
            ]
          },
          "metadata": {
            "tags": []
          },
          "execution_count": 3
        }
      ]
    },
    {
      "cell_type": "code",
      "metadata": {
        "id": "mBv_uVB8_SWB",
        "colab_type": "code",
        "outputId": "fdd58ad1-a4ff-4239-d91d-ae9c4045ef69",
        "colab": {
          "base_uri": "https://localhost:8080/",
          "height": 538
        }
      },
      "source": [
        "# print information about the DataFrame including the index dtype and column dtypes, non-null values and memory usage.\n",
        "df.info()"
      ],
      "execution_count": 4,
      "outputs": [
        {
          "output_type": "stream",
          "text": [
            "<class 'pandas.core.frame.DataFrame'>\n",
            "RangeIndex: 3163 entries, 0 to 3162\n",
            "Data columns (total 26 columns):\n",
            "status                       3163 non-null object\n",
            "age                          3163 non-null object\n",
            "sex                          3163 non-null object\n",
            "on_thyroxine                 3163 non-null object\n",
            "query_on_thyroxine           3163 non-null object\n",
            "on_antithyroid_medication    3163 non-null object\n",
            "thyroid_surgery              3163 non-null object\n",
            "query_hypothyroid            3163 non-null object\n",
            "query_hyperthyroid           3163 non-null object\n",
            "pregnant                     3163 non-null object\n",
            "sick                         3163 non-null object\n",
            "tumor                        3163 non-null object\n",
            "lithium                      3163 non-null object\n",
            "goitre                       3163 non-null object\n",
            "TSH_measured                 3163 non-null object\n",
            "TSH                          3163 non-null object\n",
            "T3_measured                  3163 non-null object\n",
            "T3                           3163 non-null object\n",
            "TT4_measured                 3163 non-null object\n",
            "TT4                          3163 non-null object\n",
            "T4U_measured                 3163 non-null object\n",
            "T4U                          3163 non-null object\n",
            "FTI_measured                 3163 non-null object\n",
            "FTI                          3163 non-null object\n",
            "TBG_measured                 3163 non-null object\n",
            "TBG                          3163 non-null object\n",
            "dtypes: object(26)\n",
            "memory usage: 642.6+ KB\n"
          ],
          "name": "stdout"
        }
      ]
    },
    {
      "cell_type": "markdown",
      "metadata": {
        "id": "UZbRhkt9pztV",
        "colab_type": "text"
      },
      "source": [
        "\n",
        "The data types for both the numerical and categorical values are listed as 'object'. We need to convert the numerical column data type to 'float64'. The categorical column data types are also to be converted to 'categorical' data type."
      ]
    },
    {
      "cell_type": "code",
      "metadata": {
        "id": "PQ8F5u4fpzCJ",
        "colab_type": "code",
        "colab": {}
      },
      "source": [
        "# Creating a list of the numerical columns in the dataset.\n",
        "numeric = ['age', 'FTI', 'T3', 'T4U', 'TSH', 'TT4','TBG']\n",
        "\n",
        "for x in df.columns:\n",
        "   if x in numeric:\n",
        "       df[x]=pd.to_numeric(df[x])\n",
        "   else:\n",
        "        df[x]=df[x].astype('category')"
      ],
      "execution_count": 0,
      "outputs": []
    },
    {
      "cell_type": "code",
      "metadata": {
        "id": "SfHSBwIwqESL",
        "colab_type": "code",
        "colab": {
          "base_uri": "https://localhost:8080/",
          "height": 470
        },
        "outputId": "e29750a7-72cd-4762-a78c-dcd0c5f9eb7b"
      },
      "source": [
        "df.dtypes"
      ],
      "execution_count": 16,
      "outputs": [
        {
          "output_type": "execute_result",
          "data": {
            "text/plain": [
              "status                       category\n",
              "age                           float64\n",
              "sex                          category\n",
              "on_thyroxine                 category\n",
              "query_on_thyroxine           category\n",
              "on_antithyroid_medication    category\n",
              "thyroid_surgery              category\n",
              "query_hypothyroid            category\n",
              "query_hyperthyroid           category\n",
              "pregnant                     category\n",
              "sick                         category\n",
              "tumor                        category\n",
              "lithium                      category\n",
              "goitre                       category\n",
              "TSH_measured                 category\n",
              "TSH                           float64\n",
              "T3_measured                  category\n",
              "T3                            float64\n",
              "TT4_measured                 category\n",
              "TT4                           float64\n",
              "T4U_measured                 category\n",
              "T4U                           float64\n",
              "FTI_measured                 category\n",
              "FTI                           float64\n",
              "TBG_measured                 category\n",
              "TBG                           float64\n",
              "dtype: object"
            ]
          },
          "metadata": {
            "tags": []
          },
          "execution_count": 16
        }
      ]
    },
    {
      "cell_type": "code",
      "metadata": {
        "id": "g6SV9vPW_1GA",
        "colab_type": "code",
        "outputId": "2751b60f-f6f4-4808-b695-866a4407d37e",
        "colab": {
          "base_uri": "https://localhost:8080/",
          "height": 470
        }
      },
      "source": [
        "#check for null values\n",
        "df.isnull().sum()"
      ],
      "execution_count": 5,
      "outputs": [
        {
          "output_type": "execute_result",
          "data": {
            "text/plain": [
              "status                       0\n",
              "age                          0\n",
              "sex                          0\n",
              "on_thyroxine                 0\n",
              "query_on_thyroxine           0\n",
              "on_antithyroid_medication    0\n",
              "thyroid_surgery              0\n",
              "query_hypothyroid            0\n",
              "query_hyperthyroid           0\n",
              "pregnant                     0\n",
              "sick                         0\n",
              "tumor                        0\n",
              "lithium                      0\n",
              "goitre                       0\n",
              "TSH_measured                 0\n",
              "TSH                          0\n",
              "T3_measured                  0\n",
              "T3                           0\n",
              "TT4_measured                 0\n",
              "TT4                          0\n",
              "T4U_measured                 0\n",
              "T4U                          0\n",
              "FTI_measured                 0\n",
              "FTI                          0\n",
              "TBG_measured                 0\n",
              "TBG                          0\n",
              "dtype: int64"
            ]
          },
          "metadata": {
            "tags": []
          },
          "execution_count": 5
        }
      ]
    },
    {
      "cell_type": "code",
      "metadata": {
        "id": "Z8lPHZIfAF7Z",
        "colab_type": "code",
        "outputId": "e0923605-9dae-46ab-b7c5-2b5e12c1d526",
        "colab": {
          "base_uri": "https://localhost:8080/",
          "height": 34
        }
      },
      "source": [
        "df.duplicated().sum()"
      ],
      "execution_count": 6,
      "outputs": [
        {
          "output_type": "execute_result",
          "data": {
            "text/plain": [
              "77"
            ]
          },
          "metadata": {
            "tags": []
          },
          "execution_count": 6
        }
      ]
    },
    {
      "cell_type": "code",
      "metadata": {
        "id": "D-JLr2o7AO6Y",
        "colab_type": "code",
        "colab": {}
      },
      "source": [
        "df.drop_duplicates(keep=False,inplace=True)\n"
      ],
      "execution_count": 0,
      "outputs": []
    },
    {
      "cell_type": "code",
      "metadata": {
        "id": "7w72KJpAAWLN",
        "colab_type": "code",
        "outputId": "9ec9cd87-e1fd-4f4a-98f3-b76859d5a6f2",
        "colab": {
          "base_uri": "https://localhost:8080/",
          "height": 34
        }
      },
      "source": [
        "df.duplicated().sum()"
      ],
      "execution_count": 8,
      "outputs": [
        {
          "output_type": "execute_result",
          "data": {
            "text/plain": [
              "0"
            ]
          },
          "metadata": {
            "tags": []
          },
          "execution_count": 8
        }
      ]
    },
    {
      "cell_type": "code",
      "metadata": {
        "id": "Rd2mOXhyoUyk",
        "colab_type": "code",
        "colab": {
          "base_uri": "https://localhost:8080/",
          "height": 1000
        },
        "outputId": "7c3bc3e8-77ad-485e-9dc4-c42e141fcc83"
      },
      "source": [
        "#Check for the unique values in every column\n",
        "\n",
        "for x in df.columns :\n",
        "  print('\\n')                    \n",
        "  print(df[x].nunique())    \n",
        "  print(df[x].unique())"
      ],
      "execution_count": 10,
      "outputs": [
        {
          "output_type": "stream",
          "text": [
            "\n",
            "\n",
            "2\n",
            "['hypothyroid' 'negative']\n",
            "\n",
            "\n",
            "92\n",
            "['72' '15' '24' '77' '85' '64' '20' '42' '75' '53' '59' '68' '50' '65'\n",
            " '28' '43' '40' '84' '?' '83' '63' '73' '36' '27' '48' '71' '60' '34' '79'\n",
            " '62' '74' '32' '41' '70' '29' '5' '69' '58' '35' '51' '22' '16' '44' '39'\n",
            " '78' '47' '18' '17' '88' '56' '30' '45' '66' '52' '54' '80' '33' '38'\n",
            " '92' '67' '46' '13' '61' '49' '26' '57' '31' '90' '81' '25' '37' '76'\n",
            " '87' '23' '55' '86' '98' '21' '97' '1' '6' '14' '82' '11' '19' '9' '12'\n",
            " '10' '8' '7' '4' '93']\n",
            "\n",
            "\n",
            "3\n",
            "['M' 'F' '?']\n",
            "\n",
            "\n",
            "2\n",
            "['f' 't']\n",
            "\n",
            "\n",
            "2\n",
            "['f' 't']\n",
            "\n",
            "\n",
            "2\n",
            "['f' 't']\n",
            "\n",
            "\n",
            "2\n",
            "['f' 't']\n",
            "\n",
            "\n",
            "2\n",
            "['f' 't']\n",
            "\n",
            "\n",
            "2\n",
            "['f' 't']\n",
            "\n",
            "\n",
            "2\n",
            "['f' 't']\n",
            "\n",
            "\n",
            "2\n",
            "['f' 't']\n",
            "\n",
            "\n",
            "2\n",
            "['f' 't']\n",
            "\n",
            "\n",
            "2\n",
            "['f' 't']\n",
            "\n",
            "\n",
            "2\n",
            "['f' 't']\n",
            "\n",
            "\n",
            "2\n",
            "['y' 'n']\n",
            "\n",
            "\n",
            "236\n",
            "['30' '145' '0' '430' '7.30' '138' '7.70' '21' '92' '48' '36' '15' '15.30'\n",
            " '25' '61' '170' '54' '216' '56' '71' '46' '70' '34' '53' '9.40' '126'\n",
            " '10' '530' '35' '57' '125' '80' '117' '49' '66' '8.20' '150' '65' '?'\n",
            " '18' '165' '164' '24' '90' '77' '19' '58' '213' '17' '235' '153' '13'\n",
            " '31' '109' '260' '43' '11' '55' '6.50' '20' '7.50' '28' '14' '60' '140'\n",
            " '33' '8.70' '0.25' '10.70' '82' '45' '42' '41' '160' '16' '89' '44' '100'\n",
            " '176' '6.40' '183' '37' '39' '7.90' '59' '68' '38' '47' '143' '6.60'\n",
            " '288' '96' '0.50' '1.20' '1.90' '0.09' '3.10' '0.40' '0.85' '0.30' '0.90'\n",
            " '1.50' '4.60' '0.20' '5.80' '4' '1.40' '2' '2.60' '2.90' '0.80' '4.90'\n",
            " '10.30' '2.30' '0.70' '0.60' '1.30' '2.50' '5.10' '1.70' '2.70' '22'\n",
            " '3.30' '5' '3.20' '1.80' '12' '1.10' '0.46' '1' '5.60' '4.40' '16.50'\n",
            " '2.10' '6.30' '5.50' '7.40' '5.90' '14.90' '2.20' '9.70' '9.60' '1.60'\n",
            " '3.70' '3' '2.80' '0.10' '4.20' '27' '3.50' '0.05' '19.20' '8' '9.10'\n",
            " '3.60' '7.80' '3.80' '8.50' '9.20' '0.15' '2.40' '3.90' '0.03' '0.04'\n",
            " '6.10' '0.65' '0.92' '7.60' '8.40' '26' '14.40' '1.05' '0.37' '178'\n",
            " '6.90' '4.50' '4.70' '40' '6' '4.10' '14.30' '5.40' '8.30' '0.06' '8.80'\n",
            " '8.90' '7.10' '4.80' '0.43' '6.70' '200' '8.60' '86' '0.21' '9' '0.26'\n",
            " '3.40' '6.20' '17.40' '85' '1.83' '63' '0.02' '0.42' '9.50' '0.84' '0.88'\n",
            " '4.30' '0.67' '0.81' '5.20' '9.80' '76' '0.62' '0.01' '11.40' '88' '0.68'\n",
            " '0.07' '0.69' '0.77' '9.90' '0.64' '8.10' '13.20' '6.80' '0.28' '11.60'\n",
            " '0.91' '1.01' '0.23' '0.35' '50' '32' '0.83' '0.08']\n",
            "\n",
            "\n",
            "2\n",
            "['y' 'n']\n",
            "\n",
            "\n",
            "67\n",
            "['0.60' '1.70' '0.20' '0.40' '1.20' '1.10' '1.30' '1.90' '?' '2.20' '1.50'\n",
            " '2.70' '2' '0.30' '2.10' '0.50' '0.70' '1' '1.40' '2.30' '2.40' '0.90'\n",
            " '1.80' '0' '2.80' '1.60' '6.70' '0.80' '3.30' '3' '2.50' '2.60' '4'\n",
            " '9.80' '3.90' '3.40' '3.80' '4.50' '3.20' '3.70' '4.30' '2.90' '3.10'\n",
            " '3.50' '3.60' '6.60' '4.90' '8.90' '4.10' '5' '7.60' '4.20' '4.40' '7'\n",
            " '0.05' '0.10' '4.70' '5.10' '6.20' '5.50' '4.60' '8.10' '5.20' '5.60'\n",
            " '4.80' '10.20' '8.60']\n",
            "\n",
            "\n",
            "2\n",
            "['y' 'n']\n",
            "\n",
            "\n",
            "264\n",
            "['15' '19' '4' '6' '57' '27' '54' '34' '39' '7.60' '38' '98' '44' '37'\n",
            " '81' '13' '12' '50' '23' '14' '3.90' '52' '32' '30' '84' '10' '24' '11'\n",
            " '6.60' '31' '41' '17' '9' '78' '42' '8.10' '65' '16' '9.70' '46' '22'\n",
            " '61' '2.30' '21' '7.50' '18' '66' '25' '43' '2' '3' '58' '59' '74' '56'\n",
            " '40' '33' '20' '48' '230' '70' '55' '4.10' '63' '5.30' '2.90' '62' '75'\n",
            " '68' '45' '47' '36' '80' '109' '8.60' '83' '82' '101' '76' '103' '112'\n",
            " '206' '110' '93' '79' '121' '?' '107' '88' '187' '254' '115' '113' '260'\n",
            " '117' '164' '97' '64' '129' '111' '106' '95' '87' '105' '90' '67' '134'\n",
            " '71' '35' '193' '130' '108' '86' '96' '92' '99' '216' '152' '125' '138'\n",
            " '194' '91' '120' '102' '53' '143' '170' '126' '116' '140' '94' '159' '85'\n",
            " '210' '151' '89' '247' '139' '153' '178' '123' '137' '161' '7.30' '72'\n",
            " '202' '122' '124' '157' '118' '104' '135' '186' '241' '131' '119' '100'\n",
            " '220' '176' '136' '183' '155' '208' '154' '169' '128' '235' '195' '267'\n",
            " '232' '197' '212' '149' '127' '245' '132' '162' '77' '142' '69' '173'\n",
            " '141' '156' '189' '60' '114' '198' '147' '191' '177' '174' '207' '168'\n",
            " '181' '73' '160' '145' '200' '182' '158' '203' '209' '213' '218' '163'\n",
            " '430' '296' '167' '148' '166' '217' '185' '172' '150' '165' '196' '144'\n",
            " '308' '146' '426' '224' '29' '204' '201' '133' '180' '184' '450' '244'\n",
            " '301' '255' '252' '396' '223' '261' '250' '179' '219' '190' '51' '221'\n",
            " '171' '242' '275' '211' '49' '239' '205' '222' '256' '282' '287' '269'\n",
            " '175' '228' '333' '236' '199' '225' '263' '283' '359' '188' '240']\n",
            "\n",
            "\n",
            "2\n",
            "['y' 'n']\n",
            "\n",
            "\n",
            "158\n",
            "['1.48' '1.13' '1' '1.04' '1.28' '1.19' '0.86' '1.05' '1.21' '1.02' '0.92'\n",
            " '1.29' '0.98' '1.08' '1.01' '1.18' '1.10' '1.27' '0.83' '1.11' '0.78'\n",
            " '1.39' '1.12' '0.99' '0.90' '1.06' '0.93' '0.68' '1.14' '0.80' '0.96'\n",
            " '0.95' '1.46' '1.03' '0.97' '0.94' '1.09' '1.24' '1.23' '1.53' '1.26'\n",
            " '1.17' '0.87' '0.61' '0.70' '1.07' '1.73' '1.45' '1.20' '0.89' '0.84'\n",
            " '0.91' '0.85' '1.35' '0.82' '1.50' '0.74' '1.71' '1.79' '0.73' '0.77'\n",
            " '1.25' '?' '0.88' '0.72' '0.67' '0.31' '0.79' '0.81' '0.71' '1.93' '0.66'\n",
            " '1.68' '1.42' '1.70' '1.83' '1.41' '1.32' '1.34' '1.65' '1.22' '0.75'\n",
            " '1.74' '0.69' '1.51' '0.76' '1.16' '0.35' '0.62' '0.54' '1.36' '1.33'\n",
            " '1.30' '0.48' '1.59' '1.75' '1.86' '1.38' '1.43' '1.62' '2.01' '0.30'\n",
            " '1.31' '1.15' '1.57' '0.55' '1.66' '0.52' '1.40' '1.97' '1.47' '0.36'\n",
            " '1.88' '1.55' '0.34' '1.67' '0.58' '0.60' '0.59' '0.64' '1.80' '0.41'\n",
            " '0.20' '1.77' '0.33' '1.54' '0.46' '0.32' '1.44' '1.56' '1.52' '2.03'\n",
            " '0.65' '0.63' '1.96' '0.53' '0.47' '0.29' '2.21' '1.69' '1.64' '1.49'\n",
            " '1.72' '1.76' '1.58' '0.57' '0.56' '1.61' '0.28' '2' '1.37' '1.63' '0.27'\n",
            " '1.94' '0.50' '0.49' '0.40' '0.38']\n",
            "\n",
            "\n",
            "2\n",
            "['y' 'n']\n",
            "\n",
            "\n",
            "278\n",
            "['10' '17' '0' '6' '44' '23' '63' '32' '7.50' '41' '76' '45' '34' '81'\n",
            " '11' '46' '22' '12' '5' '47' '29' '37' '60' '8.40' '8.50' '24' '7' '36'\n",
            " '15' '9' '80' '53' '7.20' '68' '6.60' '48' '21' '49' '61' '14' '2' '20'\n",
            " '1.40' '56' '3' '13' '43' '78' '52' '64' '26' '35' '16' '31' '133' '28'\n",
            " '3.40' '54' '8.90' '57' '5.50' '58' '55' '2.80' '66' '4' '40' '50' '8.70'\n",
            " '87' '89' '112' '123' '99' '92' '104' '69' '196' '107' '106' '74' '97'\n",
            " '?' '122' '84' '114' '124' '241' '119' '120' '136' '127' '839' '137'\n",
            " '197' '96' '77' '108' '82' '72' '94' '91' '240' '121' '109' '79' '100'\n",
            " '98' '73' '117' '103' '88' '101' '126' '132' '128' '143' '152' '141'\n",
            " '186' '113' '102' '125' '93' '159' '188' '149' '116' '83' '176' '161'\n",
            " '71' '86' '140' '111' '158' '115' '171' '90' '95' '70' '135' '134' '178'\n",
            " '110' '170' '205' '695' '155' '118' '51' '741' '131' '129' '142' '153'\n",
            " '75' '254' '246' '139' '185' '157' '147' '164' '130' '222' '105' '650'\n",
            " '174' '182' '144' '169' '257' '145' '345' '180' '167' '85' '151' '154'\n",
            " '150' '219' '228' '65' '187' '166' '208' '138' '173' '146' '211' '181'\n",
            " '190' '247' '216' '212' '148' '162' '220' '395' '370' '450' '160' '59'\n",
            " '189' '203' '179' '264' '470' '184' '163' '67' '213' '165' '354' '292'\n",
            " '359' '172' '156' '195' '334' '177' '214' '192' '215' '194' '217' '271'\n",
            " '250' '244' '308' '881' '258' '316' '200' '711' '256' '232' '202' '39'\n",
            " '248' '237' '259' '445' '19' '852' '42' '235' '168' '634' '283' '305'\n",
            " '229' '332' '550' '249' '263' '615' '266' '198' '175' '209' '299' '193'\n",
            " '223' '337' '210' '272' '702' '218' '204' '239' '355' '482' '347' '485'\n",
            " '612' '428']\n",
            "\n",
            "\n",
            "2\n",
            "['n' 'y']\n",
            "\n",
            "\n",
            "52\n",
            "['?' '28' '34' '0' '19' '30' '25' '48' '31' '16' '21' '37' '40' '27'\n",
            " '3.10' '38' '108' '20' '36' '17' '23' '35' '32' '63' '9.30' '15' '26'\n",
            " '33' '39' '41' '110' '22' '53' '80' '47' '29' '13' '24' '18' '45' '86'\n",
            " '50' '8.40' '52' '11' '12' '43' '14' '7.30' '8.50' '69' '122']\n"
          ],
          "name": "stdout"
        }
      ]
    },
    {
      "cell_type": "markdown",
      "metadata": {
        "id": "q7q3jJxZo1wz",
        "colab_type": "text"
      },
      "source": [
        "\n",
        "After exploration the data:\n",
        "\n",
        "- Has no missing values.\n",
        "\n",
        "- Has some duplicates which we drop.\n",
        "\n",
        "- Upon further exploration and checking for the unique values in the data it is evident that '?' is essentially a missing value.\n",
        "\n",
        "We attempt to convert the '?' to a Nan value."
      ]
    },
    {
      "cell_type": "code",
      "metadata": {
        "id": "l6l6jQr5pKin",
        "colab_type": "code",
        "colab": {}
      },
      "source": [
        "#Replace the ? with Nan values\n",
        "\n",
        "df =df.replace(['?'], np.nan)\n"
      ],
      "execution_count": 0,
      "outputs": []
    },
    {
      "cell_type": "code",
      "metadata": {
        "id": "IAOdWRNwqdu1",
        "colab_type": "code",
        "colab": {
          "base_uri": "https://localhost:8080/",
          "height": 470
        },
        "outputId": "04c9ea95-8fda-47ac-e99e-924bcfa1e94c"
      },
      "source": [
        "#check for null values\n",
        "df.isnull().sum()"
      ],
      "execution_count": 20,
      "outputs": [
        {
          "output_type": "execute_result",
          "data": {
            "text/plain": [
              "status                          0\n",
              "age                           431\n",
              "sex                            73\n",
              "on_thyroxine                    0\n",
              "query_on_thyroxine              0\n",
              "on_antithyroid_medication       0\n",
              "thyroid_surgery                 0\n",
              "query_hypothyroid               0\n",
              "query_hyperthyroid              0\n",
              "pregnant                        0\n",
              "sick                            0\n",
              "tumor                           0\n",
              "lithium                         0\n",
              "goitre                          0\n",
              "TSH_measured                    0\n",
              "TSH                           443\n",
              "T3_measured                     0\n",
              "T3                            666\n",
              "TT4_measured                    0\n",
              "TT4                           232\n",
              "T4U_measured                    0\n",
              "T4U                           231\n",
              "FTI_measured                    0\n",
              "FTI                           230\n",
              "TBG_measured                    0\n",
              "TBG                          2767\n",
              "dtype: int64"
            ]
          },
          "metadata": {
            "tags": []
          },
          "execution_count": 20
        }
      ]
    },
    {
      "cell_type": "markdown",
      "metadata": {
        "id": "MKo--SRwqvud",
        "colab_type": "text"
      },
      "source": [
        "Finding outliers will guide us on the best way to deal with the null values. (Fill with mean, mode, median or back-fill or forward-fill)\n",
        "\n"
      ]
    },
    {
      "cell_type": "code",
      "metadata": {
        "id": "B4rKd0Sjqwzj",
        "colab_type": "code",
        "colab": {
          "base_uri": "https://localhost:8080/",
          "height": 50
        },
        "outputId": "0f42c553-77f0-42a9-f1b7-ac0af5d5fb6c"
      },
      "source": [
        "#Are there outliers in the age dataset?\n",
        "\n",
        "Q1 = df.age.quantile(0.25)\n",
        "Q3 = df.age.quantile(0.75)\n",
        "\n",
        "IQR = Q3 - Q1\n",
        "\n",
        "age_outliers = ((df.age < Q1 - 1.5 * IQR) | (df.age > Q3 + 1.5 * IQR))\n",
        "age_outliers.value_counts()\n"
      ],
      "execution_count": 21,
      "outputs": [
        {
          "output_type": "execute_result",
          "data": {
            "text/plain": [
              "False    3010\n",
              "Name: age, dtype: int64"
            ]
          },
          "metadata": {
            "tags": []
          },
          "execution_count": 21
        }
      ]
    },
    {
      "cell_type": "markdown",
      "metadata": {
        "id": "LW69gswprB0z",
        "colab_type": "text"
      },
      "source": [
        "\n",
        "This means that there's no record of outliers, the best preferred method to deal with the missing values in the case of the age column is to fill using the mean"
      ]
    },
    {
      "cell_type": "code",
      "metadata": {
        "id": "dJ6-WxUdrAOU",
        "colab_type": "code",
        "colab": {
          "base_uri": "https://localhost:8080/",
          "height": 34
        },
        "outputId": "b551c0d8-a26a-4b27-ba00-9e4b0353bd0b"
      },
      "source": [
        "\n",
        "#Finding mean of the age column\n",
        "\n",
        "df.age.mean()"
      ],
      "execution_count": 22,
      "outputs": [
        {
          "output_type": "execute_result",
          "data": {
            "text/plain": [
              "51.06863125242342"
            ]
          },
          "metadata": {
            "tags": []
          },
          "execution_count": 22
        }
      ]
    },
    {
      "cell_type": "code",
      "metadata": {
        "id": "cU9kVnWerLHF",
        "colab_type": "code",
        "colab": {}
      },
      "source": [
        "#Filling the missing value entries with mean\n",
        "\n",
        "df.age = df.age.fillna(df.age.mean())"
      ],
      "execution_count": 0,
      "outputs": []
    },
    {
      "cell_type": "markdown",
      "metadata": {
        "id": "KARJGdQGreKN",
        "colab_type": "text"
      },
      "source": [
        "Now let's evaluate and try to make sense of the remaining columns in order to understand what approach to take when dealing with the missing values."
      ]
    },
    {
      "cell_type": "code",
      "metadata": {
        "id": "nlAIHA5drW1Y",
        "colab_type": "code",
        "colab": {
          "base_uri": "https://localhost:8080/",
          "height": 470
        },
        "outputId": "7d6bc65b-0041-4c1e-c3ef-6eb31a614243"
      },
      "source": [
        "#columns still having missing values?\n",
        "\n",
        "df.isnull().sum()\n"
      ],
      "execution_count": 24,
      "outputs": [
        {
          "output_type": "execute_result",
          "data": {
            "text/plain": [
              "status                          0\n",
              "age                             0\n",
              "sex                            73\n",
              "on_thyroxine                    0\n",
              "query_on_thyroxine              0\n",
              "on_antithyroid_medication       0\n",
              "thyroid_surgery                 0\n",
              "query_hypothyroid               0\n",
              "query_hyperthyroid              0\n",
              "pregnant                        0\n",
              "sick                            0\n",
              "tumor                           0\n",
              "lithium                         0\n",
              "goitre                          0\n",
              "TSH_measured                    0\n",
              "TSH                           443\n",
              "T3_measured                     0\n",
              "T3                            666\n",
              "TT4_measured                    0\n",
              "TT4                           232\n",
              "T4U_measured                    0\n",
              "T4U                           231\n",
              "FTI_measured                    0\n",
              "FTI                           230\n",
              "TBG_measured                    0\n",
              "TBG                          2767\n",
              "dtype: int64"
            ]
          },
          "metadata": {
            "tags": []
          },
          "execution_count": 24
        }
      ]
    },
    {
      "cell_type": "markdown",
      "metadata": {
        "id": "DdkmYM5Er7Mo",
        "colab_type": "text"
      },
      "source": [
        "The general assumption for sex is that the patient did not register their gender. Assigning a patient a wrong gender would be highly inaccurate as that would affect the actual validity of the results. Thus the value ' unknown ' will be applied to any missing information."
      ]
    },
    {
      "cell_type": "code",
      "metadata": {
        "id": "JGoPl9q2sBQZ",
        "colab_type": "code",
        "colab": {
          "base_uri": "https://localhost:8080/",
          "height": 84
        },
        "outputId": "6470e0be-e66e-448b-8955-7ac95bc2bbf3"
      },
      "source": [
        "#Fill a null value using fillna()  \n",
        "\n",
        "df.sex = df.sex.replace(to_replace = np.nan, value = 'unknown')  \n",
        "\n",
        "#Confirm the changes\n",
        "\n",
        "df.sex.value_counts()"
      ],
      "execution_count": 25,
      "outputs": [
        {
          "output_type": "execute_result",
          "data": {
            "text/plain": [
              "F          2057\n",
              "M           880\n",
              "unknown      73\n",
              "Name: sex, dtype: int64"
            ]
          },
          "metadata": {
            "tags": []
          },
          "execution_count": 25
        }
      ]
    },
    {
      "cell_type": "markdown",
      "metadata": {
        "id": "h5mqWbdPsmpr",
        "colab_type": "text"
      },
      "source": [
        "\n",
        "The other columns with missing values are:\n",
        "\n",
        "- TSH\n",
        "- T3\n",
        "- TT4\n",
        "- T4U\n",
        "- FTI\n",
        "- TBG"
      ]
    },
    {
      "cell_type": "markdown",
      "metadata": {
        "id": "BvCX-GbPsv9W",
        "colab_type": "text"
      },
      "source": [
        "What are the other values?\n",
        "\n",
        "What's TSH, T3, TT4, T4U, FTI, TBG ?\n",
        "\n",
        " A small background research on diagnosis of hypothyroidism:\n",
        "\n",
        "In a blood test there are several forms of hormones that are tested to determine your thyroid status-\n",
        "\n",
        "Thyroxine (T4): the major hormone produced by the thyroid gland. T4 gets converted to the active hormone T3 in various tissues in the body.\n",
        "\n",
        "Triiodothyronine (T3): the active thyroid hormone, usually produced from thyroxine.\n",
        "\n",
        "(TSH) thyroid stimulating hormone — produced by the pituitary gland that regulates thyroid function; also the best screening test to determine if the thyroid is functioning normally.\n",
        "\n",
        "This let's us know that when hypothyroidism is checked they are hormone tests taken.\n",
        "\n",
        "\n",
        "When a test wasn't conducted on a patient a missing value was recorded as '?'.\n",
        "\n",
        "Would it be medically correct to fill the missing values with 0 ?\n",
        "\n",
        "A low TSH and high T4 generally indicates hyperthyroidism. A high TSH and low T4 indicates primary hypothyroidism (due to a thyroid disease). A low TSH and low T4 suggest secondary hypothyroidism (due to a disease of the pituitary gland or hypothalamus of the brain).\n",
        "\n",
        "So assigning a 0 to a missing value can essentially tamper with the results\n"
      ]
    },
    {
      "cell_type": "code",
      "metadata": {
        "id": "-pG8tw4Ot7bU",
        "colab_type": "code",
        "colab": {
          "base_uri": "https://localhost:8080/",
          "height": 67
        },
        "outputId": "c5265f5c-f56e-496d-84c7-5c88dbbb5212"
      },
      "source": [
        "#Are there outliers in the TSH dataset?\n",
        "\n",
        "Q1 = df.TSH.quantile(0.25)\n",
        "Q3 = df.TSH.quantile(0.75)\n",
        "\n",
        "IQR = Q3 - Q1\n",
        "\n",
        "TSH_outliers = ((df.TSH < Q1 - 1.5 * IQR) | (df.TSH > Q3 + 1.5 * IQR))\n",
        "TSH_outliers.value_counts()"
      ],
      "execution_count": 26,
      "outputs": [
        {
          "output_type": "execute_result",
          "data": {
            "text/plain": [
              "False    2661\n",
              "True      349\n",
              "Name: TSH, dtype: int64"
            ]
          },
          "metadata": {
            "tags": []
          },
          "execution_count": 26
        }
      ]
    },
    {
      "cell_type": "code",
      "metadata": {
        "id": "WMOe_AS2svCZ",
        "colab_type": "code",
        "colab": {
          "base_uri": "https://localhost:8080/",
          "height": 67
        },
        "outputId": "635eaac1-3058-4147-8339-13c27c0d77d4"
      },
      "source": [
        "#Are there outliers in the T3 dataset?\n",
        "\n",
        "Q1 = df.T3.quantile(0.25)\n",
        "Q3 = df.T3.quantile(0.75)\n",
        "\n",
        "IQR = Q3 - Q1\n",
        "\n",
        "T3_outliers = ((df.T3 < Q1 - 1.5 * IQR) | (df.T3 > Q3 + 1.5 * IQR))\n",
        "T3_outliers.value_counts()"
      ],
      "execution_count": 27,
      "outputs": [
        {
          "output_type": "execute_result",
          "data": {
            "text/plain": [
              "False    2906\n",
              "True      104\n",
              "Name: T3, dtype: int64"
            ]
          },
          "metadata": {
            "tags": []
          },
          "execution_count": 27
        }
      ]
    },
    {
      "cell_type": "code",
      "metadata": {
        "id": "AotJIohtuSQg",
        "colab_type": "code",
        "colab": {
          "base_uri": "https://localhost:8080/",
          "height": 67
        },
        "outputId": "afcbde68-3d02-4eb2-ac96-943bc2b9e8bb"
      },
      "source": [
        "#Are there outliers in the TT4 dataset?\n",
        "\n",
        "Q1 = df.TT4.quantile(0.25)\n",
        "Q3 = df.TT4.quantile(0.75)\n",
        "\n",
        "IQR = Q3 - Q1\n",
        "\n",
        "TT4_outliers = ((df.TT4 < Q1 - 1.5 * IQR) | (df.TT4 > Q3 + 1.5 * IQR))\n",
        "TT4_outliers.value_counts()"
      ],
      "execution_count": 29,
      "outputs": [
        {
          "output_type": "execute_result",
          "data": {
            "text/plain": [
              "False    2834\n",
              "True      176\n",
              "Name: TT4, dtype: int64"
            ]
          },
          "metadata": {
            "tags": []
          },
          "execution_count": 29
        }
      ]
    },
    {
      "cell_type": "code",
      "metadata": {
        "id": "UVFKOxWtugT7",
        "colab_type": "code",
        "colab": {
          "base_uri": "https://localhost:8080/",
          "height": 67
        },
        "outputId": "ad91d3b9-558d-4c40-fb84-8ceb7098efa1"
      },
      "source": [
        "#Are there outliers in the T4U dataset?\n",
        "\n",
        "Q1 = df.T4U.quantile(0.25)\n",
        "Q3 = df.T4U.quantile(0.75)\n",
        "\n",
        "IQR = Q3 - Q1\n",
        "\n",
        "T4U_outliers = ((df.T4U < Q1 - 1.5 * IQR) | (df.T4U > Q3 + 1.5 * IQR))\n",
        "T4U_outliers.value_counts()"
      ],
      "execution_count": 30,
      "outputs": [
        {
          "output_type": "execute_result",
          "data": {
            "text/plain": [
              "False    2811\n",
              "True      199\n",
              "Name: T4U, dtype: int64"
            ]
          },
          "metadata": {
            "tags": []
          },
          "execution_count": 30
        }
      ]
    },
    {
      "cell_type": "code",
      "metadata": {
        "id": "ZFoEupowurFS",
        "colab_type": "code",
        "colab": {
          "base_uri": "https://localhost:8080/",
          "height": 67
        },
        "outputId": "d7902135-5de2-46be-9e29-52cd0c3fbf64"
      },
      "source": [
        "#Are there outliers in the FTI dataset?\n",
        "\n",
        "Q1 = df.FTI.quantile(0.25)\n",
        "Q3 = df.FTI.quantile(0.75)\n",
        "\n",
        "IQR = Q3 - Q1\n",
        "\n",
        "FTI_outliers = ((df.FTI < Q1 - 1.5 * IQR) | (df.FTI > Q3 + 1.5 * IQR))\n",
        "FTI_outliers.value_counts()"
      ],
      "execution_count": 31,
      "outputs": [
        {
          "output_type": "execute_result",
          "data": {
            "text/plain": [
              "False    2772\n",
              "True      238\n",
              "Name: FTI, dtype: int64"
            ]
          },
          "metadata": {
            "tags": []
          },
          "execution_count": 31
        }
      ]
    },
    {
      "cell_type": "code",
      "metadata": {
        "id": "EIfdIDNcuv1k",
        "colab_type": "code",
        "colab": {
          "base_uri": "https://localhost:8080/",
          "height": 67
        },
        "outputId": "ea0a3091-2dd6-4a70-d61b-db5b4521bb5d"
      },
      "source": [
        "\n",
        "#Are there outliers in the TBG dataset?\n",
        "\n",
        "Q1 = df.TBG.quantile(0.25)\n",
        "Q3 = df.TBG.quantile(0.75)\n",
        "\n",
        "IQR = Q3 - Q1\n",
        "\n",
        "TBG_outliers = ((df.TBG < Q1 - 1.5 * IQR) | (df.TBG > Q3 + 1.5 * IQR))\n",
        "TBG_outliers.value_counts()"
      ],
      "execution_count": 32,
      "outputs": [
        {
          "output_type": "execute_result",
          "data": {
            "text/plain": [
              "False    2992\n",
              "True       18\n",
              "Name: TBG, dtype: int64"
            ]
          },
          "metadata": {
            "tags": []
          },
          "execution_count": 32
        }
      ]
    },
    {
      "cell_type": "markdown",
      "metadata": {
        "id": "97JThVCru6-H",
        "colab_type": "text"
      },
      "source": [
        "Therefore, how to deal with missing values\n",
        "\n",
        "Using the median strikes me as the best option since it is essentail to assign the patients a hormone level that's within normal range.\n",
        "\n",
        "So replace with the median value in each category."
      ]
    },
    {
      "cell_type": "code",
      "metadata": {
        "id": "ssOUog9UvtIQ",
        "colab_type": "code",
        "colab": {}
      },
      "source": [
        "\n",
        "#Fill the missing value entries with the median\n",
        "\n",
        "df.TSH = df.TSH.fillna(df.TSH.median())\n",
        "\n",
        "df.T3 = df.T3.fillna(df.T3.median())\n",
        "\n",
        "df.TT4 = df.TT4.fillna(df.TT4.median())\n",
        "\n",
        "df.FTI = df.FTI.fillna(df.FTI.median())\n",
        "\n",
        "df.T4U = df.T4U.fillna(df.T4U.median())\n",
        "\n",
        "df.TBG = df.TBG.fillna(df.TBG.median())"
      ],
      "execution_count": 0,
      "outputs": []
    },
    {
      "cell_type": "code",
      "metadata": {
        "id": "phH2AUqvv-zg",
        "colab_type": "code",
        "colab": {
          "base_uri": "https://localhost:8080/",
          "height": 470
        },
        "outputId": "2b58d44f-dfda-4337-b480-a83e8e1c97e6"
      },
      "source": [
        "\n",
        "df.isnull().sum()\n",
        "\n",
        "#Successfully dealt with null!\n"
      ],
      "execution_count": 34,
      "outputs": [
        {
          "output_type": "execute_result",
          "data": {
            "text/plain": [
              "status                       0\n",
              "age                          0\n",
              "sex                          0\n",
              "on_thyroxine                 0\n",
              "query_on_thyroxine           0\n",
              "on_antithyroid_medication    0\n",
              "thyroid_surgery              0\n",
              "query_hypothyroid            0\n",
              "query_hyperthyroid           0\n",
              "pregnant                     0\n",
              "sick                         0\n",
              "tumor                        0\n",
              "lithium                      0\n",
              "goitre                       0\n",
              "TSH_measured                 0\n",
              "TSH                          0\n",
              "T3_measured                  0\n",
              "T3                           0\n",
              "TT4_measured                 0\n",
              "TT4                          0\n",
              "T4U_measured                 0\n",
              "T4U                          0\n",
              "FTI_measured                 0\n",
              "FTI                          0\n",
              "TBG_measured                 0\n",
              "TBG                          0\n",
              "dtype: int64"
            ]
          },
          "metadata": {
            "tags": []
          },
          "execution_count": 34
        }
      ]
    },
    {
      "cell_type": "markdown",
      "metadata": {
        "id": "zv1rJRrlBYX-",
        "colab_type": "text"
      },
      "source": [
        "# Data Analysis and Preparation"
      ]
    },
    {
      "cell_type": "markdown",
      "metadata": {
        "id": "juP0YHbxBe5A",
        "colab_type": "text"
      },
      "source": [
        "Attribute Information:\n",
        "\n",
        "The hypothyroid.csv has the following fields: \n",
        "\n",
        "Dataset Columns\n",
        "* Age\n",
        "* Sex\n",
        "* on_thyroxine\n",
        "* query_on_thyroxine\n",
        "* on_antithyroid_medicationthyroid_surgery\n",
        "* query_hypothyroid\n",
        "* query_hyperthyroid\n",
        "* pregnant\n",
        "* sick\n",
        "* tumor\n",
        "* lithium\n",
        "* goitre\n",
        "* TSH_measured\n",
        "* TSH\n",
        "* T3_measured\n",
        "* T3\n",
        "* TT4_measured\n",
        "* TT4\n"
      ]
    },
    {
      "cell_type": "code",
      "metadata": {
        "id": "XfVJjvarBZvB",
        "colab_type": "code",
        "colab": {}
      },
      "source": [
        "\n",
        "#Fill the missing value entries with the median\n",
        "\n",
        "hyp.TSH = hyp.TSH.fillna(hyp.TSH.median())\n",
        "\n",
        "hyp.T3 = hyp.T3.fillna(hyp.T3.median())\n",
        "\n",
        "hyp.TT4 = hyp.TT4.fillna(hyp.TT4.median())\n",
        "\n",
        "hyp.FTI = hyp.FTI.fillna(hyp.FTI.median())\n",
        "\n",
        "hyp.T4U = hyp.T4U.fillna(hyp.T4U.median())\n",
        "\n",
        "hyp.TBG = hyp.TBG.fillna(hyp.TBG.median())"
      ],
      "execution_count": 0,
      "outputs": []
    },
    {
      "cell_type": "code",
      "metadata": {
        "id": "ePpkjAlzw8mj",
        "colab_type": "code",
        "colab": {
          "base_uri": "https://localhost:8080/",
          "height": 118
        },
        "outputId": "b9971b7e-6918-4cb7-c0d5-1bc635095271"
      },
      "source": [
        "df.columns"
      ],
      "execution_count": 39,
      "outputs": [
        {
          "output_type": "execute_result",
          "data": {
            "text/plain": [
              "Index(['status', 'age', 'sex', 'on_thyroxine', 'query_on_thyroxine',\n",
              "       'on_antithyroid_medication', 'thyroid_surgery', 'query_hypothyroid',\n",
              "       'query_hyperthyroid', 'pregnant', 'sick', 'tumor', 'lithium', 'goitre',\n",
              "       'TSH_measured', 'TSH', 'T3_measured', 'T3', 'TT4_measured', 'TT4',\n",
              "       'T4U_measured', 'T4U', 'FTI_measured', 'FTI', 'TBG_measured', 'TBG'],\n",
              "      dtype='object')"
            ]
          },
          "metadata": {
            "tags": []
          },
          "execution_count": 39
        }
      ]
    },
    {
      "cell_type": "code",
      "metadata": {
        "id": "4zGQyliHwWLs",
        "colab_type": "code",
        "colab": {
          "base_uri": "https://localhost:8080/",
          "height": 745
        },
        "outputId": "9cae7b05-2309-450b-bbea-8233cf670fe5"
      },
      "source": [
        "\n",
        "# Histograms of the numerical columns\n",
        "# these are columns which represent measures or thyroid tests.\n",
        "# First we create a list containing all the measures columns\n",
        "\n",
        "measure_columns = ['TSH','T3','TT4','T4U','FTI','TBG']\n",
        "\n",
        "sns.set_style('darkgrid')\n",
        "fig, axes = plt.subplots(nrows=3, ncols = 2, figsize = (10,10))\n",
        "fig.suptitle('Distributions of Measures/Test Features', y= 1.01, color = 'blue', fontsize = 20, weight = 'bold')\n",
        "\n",
        "for ax, data, name in zip(axes.flatten(), df, measure_columns):\n",
        "  sns.distplot(df[name], ax = ax, kde = True, color = 'pink')\n",
        "plt.tight_layout()\n",
        "plt.show()"
      ],
      "execution_count": 37,
      "outputs": [
        {
          "output_type": "display_data",
          "data": {
            "image/png": "[encoded data removed]",
            "text/plain": [
              "<Figure size 720x720 with 6 Axes>"
            ]
          },
          "metadata": {
            "tags": []
          }
        }
      ]
    },
    {
      "cell_type": "markdown",
      "metadata": {
        "id": "oYyN4JiV2YVa",
        "colab_type": "text"
      },
      "source": [
        "Pre-Processing\n",
        "\n",
        "Thereafter, we map the categorical values to numbers to allow for the modelling process.\n",
        "\n"
      ]
    },
    {
      "cell_type": "code",
      "metadata": {
        "id": "8H9NtfeN2tMt",
        "colab_type": "code",
        "colab": {
          "base_uri": "https://localhost:8080/",
          "height": 363
        },
        "outputId": "57621c81-0dc3-4c1f-e0e0-04730832ceb1"
      },
      "source": [
        "df.head(10)"
      ],
      "execution_count": 41,
      "outputs": [
        {
          "output_type": "execute_result",
          "data": {
            "text/html": [
              "<div>\n",
              "<style scoped>\n",
              "    .dataframe tbody tr th:only-of-type {\n",
              "        vertical-align: middle;\n",
              "    }\n",
              "\n",
              "    .dataframe tbody tr th {\n",
              "        vertical-align: top;\n",
              "    }\n",
              "\n",
              "    .dataframe thead th {\n",
              "        text-align: right;\n",
              "    }\n",
              "</style>\n",
              "<table border=\"1\" class=\"dataframe\">\n",
              "  <thead>\n",
              "    <tr style=\"text-align: right;\">\n",
              "      <th></th>\n",
              "      <th>status</th>\n",
              "      <th>age</th>\n",
              "      <th>sex</th>\n",
              "      <th>on_thyroxine</th>\n",
              "      <th>query_on_thyroxine</th>\n",
              "      <th>on_antithyroid_medication</th>\n",
              "      <th>thyroid_surgery</th>\n",
              "      <th>query_hypothyroid</th>\n",
              "      <th>query_hyperthyroid</th>\n",
              "      <th>pregnant</th>\n",
              "      <th>sick</th>\n",
              "      <th>tumor</th>\n",
              "      <th>lithium</th>\n",
              "      <th>goitre</th>\n",
              "      <th>TSH_measured</th>\n",
              "      <th>TSH</th>\n",
              "      <th>T3_measured</th>\n",
              "      <th>T3</th>\n",
              "      <th>TT4_measured</th>\n",
              "      <th>TT4</th>\n",
              "      <th>T4U_measured</th>\n",
              "      <th>T4U</th>\n",
              "      <th>FTI_measured</th>\n",
              "      <th>FTI</th>\n",
              "      <th>TBG_measured</th>\n",
              "      <th>TBG</th>\n",
              "    </tr>\n",
              "  </thead>\n",
              "  <tbody>\n",
              "    <tr>\n",
              "      <th>0</th>\n",
              "      <td>hypothyroid</td>\n",
              "      <td>72.0</td>\n",
              "      <td>M</td>\n",
              "      <td>f</td>\n",
              "      <td>f</td>\n",
              "      <td>f</td>\n",
              "      <td>f</td>\n",
              "      <td>f</td>\n",
              "      <td>f</td>\n",
              "      <td>f</td>\n",
              "      <td>f</td>\n",
              "      <td>f</td>\n",
              "      <td>f</td>\n",
              "      <td>f</td>\n",
              "      <td>y</td>\n",
              "      <td>30.0</td>\n",
              "      <td>y</td>\n",
              "      <td>0.6</td>\n",
              "      <td>y</td>\n",
              "      <td>15.0</td>\n",
              "      <td>y</td>\n",
              "      <td>1.48</td>\n",
              "      <td>y</td>\n",
              "      <td>10.0</td>\n",
              "      <td>n</td>\n",
              "      <td>27.0</td>\n",
              "    </tr>\n",
              "    <tr>\n",
              "      <th>1</th>\n",
              "      <td>hypothyroid</td>\n",
              "      <td>15.0</td>\n",
              "      <td>F</td>\n",
              "      <td>t</td>\n",
              "      <td>f</td>\n",
              "      <td>f</td>\n",
              "      <td>f</td>\n",
              "      <td>f</td>\n",
              "      <td>f</td>\n",
              "      <td>f</td>\n",
              "      <td>f</td>\n",
              "      <td>f</td>\n",
              "      <td>f</td>\n",
              "      <td>f</td>\n",
              "      <td>y</td>\n",
              "      <td>145.0</td>\n",
              "      <td>y</td>\n",
              "      <td>1.7</td>\n",
              "      <td>y</td>\n",
              "      <td>19.0</td>\n",
              "      <td>y</td>\n",
              "      <td>1.13</td>\n",
              "      <td>y</td>\n",
              "      <td>17.0</td>\n",
              "      <td>n</td>\n",
              "      <td>27.0</td>\n",
              "    </tr>\n",
              "    <tr>\n",
              "      <th>2</th>\n",
              "      <td>hypothyroid</td>\n",
              "      <td>24.0</td>\n",
              "      <td>M</td>\n",
              "      <td>f</td>\n",
              "      <td>f</td>\n",
              "      <td>f</td>\n",
              "      <td>f</td>\n",
              "      <td>f</td>\n",
              "      <td>f</td>\n",
              "      <td>f</td>\n",
              "      <td>f</td>\n",
              "      <td>f</td>\n",
              "      <td>f</td>\n",
              "      <td>f</td>\n",
              "      <td>y</td>\n",
              "      <td>0.0</td>\n",
              "      <td>y</td>\n",
              "      <td>0.2</td>\n",
              "      <td>y</td>\n",
              "      <td>4.0</td>\n",
              "      <td>y</td>\n",
              "      <td>1.00</td>\n",
              "      <td>y</td>\n",
              "      <td>0.0</td>\n",
              "      <td>n</td>\n",
              "      <td>27.0</td>\n",
              "    </tr>\n",
              "    <tr>\n",
              "      <th>3</th>\n",
              "      <td>hypothyroid</td>\n",
              "      <td>24.0</td>\n",
              "      <td>F</td>\n",
              "      <td>f</td>\n",
              "      <td>f</td>\n",
              "      <td>f</td>\n",
              "      <td>f</td>\n",
              "      <td>f</td>\n",
              "      <td>f</td>\n",
              "      <td>f</td>\n",
              "      <td>f</td>\n",
              "      <td>f</td>\n",
              "      <td>f</td>\n",
              "      <td>f</td>\n",
              "      <td>y</td>\n",
              "      <td>430.0</td>\n",
              "      <td>y</td>\n",
              "      <td>0.4</td>\n",
              "      <td>y</td>\n",
              "      <td>6.0</td>\n",
              "      <td>y</td>\n",
              "      <td>1.04</td>\n",
              "      <td>y</td>\n",
              "      <td>6.0</td>\n",
              "      <td>n</td>\n",
              "      <td>27.0</td>\n",
              "    </tr>\n",
              "    <tr>\n",
              "      <th>4</th>\n",
              "      <td>hypothyroid</td>\n",
              "      <td>77.0</td>\n",
              "      <td>M</td>\n",
              "      <td>f</td>\n",
              "      <td>f</td>\n",
              "      <td>f</td>\n",
              "      <td>f</td>\n",
              "      <td>f</td>\n",
              "      <td>f</td>\n",
              "      <td>f</td>\n",
              "      <td>f</td>\n",
              "      <td>f</td>\n",
              "      <td>f</td>\n",
              "      <td>f</td>\n",
              "      <td>y</td>\n",
              "      <td>7.3</td>\n",
              "      <td>y</td>\n",
              "      <td>1.2</td>\n",
              "      <td>y</td>\n",
              "      <td>57.0</td>\n",
              "      <td>y</td>\n",
              "      <td>1.28</td>\n",
              "      <td>y</td>\n",
              "      <td>44.0</td>\n",
              "      <td>n</td>\n",
              "      <td>27.0</td>\n",
              "    </tr>\n",
              "    <tr>\n",
              "      <th>5</th>\n",
              "      <td>hypothyroid</td>\n",
              "      <td>85.0</td>\n",
              "      <td>F</td>\n",
              "      <td>f</td>\n",
              "      <td>f</td>\n",
              "      <td>f</td>\n",
              "      <td>f</td>\n",
              "      <td>t</td>\n",
              "      <td>f</td>\n",
              "      <td>f</td>\n",
              "      <td>f</td>\n",
              "      <td>f</td>\n",
              "      <td>f</td>\n",
              "      <td>f</td>\n",
              "      <td>y</td>\n",
              "      <td>138.0</td>\n",
              "      <td>y</td>\n",
              "      <td>1.1</td>\n",
              "      <td>y</td>\n",
              "      <td>27.0</td>\n",
              "      <td>y</td>\n",
              "      <td>1.19</td>\n",
              "      <td>y</td>\n",
              "      <td>23.0</td>\n",
              "      <td>n</td>\n",
              "      <td>27.0</td>\n",
              "    </tr>\n",
              "    <tr>\n",
              "      <th>6</th>\n",
              "      <td>hypothyroid</td>\n",
              "      <td>64.0</td>\n",
              "      <td>F</td>\n",
              "      <td>f</td>\n",
              "      <td>f</td>\n",
              "      <td>f</td>\n",
              "      <td>t</td>\n",
              "      <td>f</td>\n",
              "      <td>f</td>\n",
              "      <td>f</td>\n",
              "      <td>f</td>\n",
              "      <td>f</td>\n",
              "      <td>f</td>\n",
              "      <td>f</td>\n",
              "      <td>y</td>\n",
              "      <td>7.7</td>\n",
              "      <td>y</td>\n",
              "      <td>1.3</td>\n",
              "      <td>y</td>\n",
              "      <td>54.0</td>\n",
              "      <td>y</td>\n",
              "      <td>0.86</td>\n",
              "      <td>y</td>\n",
              "      <td>63.0</td>\n",
              "      <td>n</td>\n",
              "      <td>27.0</td>\n",
              "    </tr>\n",
              "    <tr>\n",
              "      <th>7</th>\n",
              "      <td>hypothyroid</td>\n",
              "      <td>72.0</td>\n",
              "      <td>F</td>\n",
              "      <td>f</td>\n",
              "      <td>f</td>\n",
              "      <td>f</td>\n",
              "      <td>f</td>\n",
              "      <td>f</td>\n",
              "      <td>f</td>\n",
              "      <td>f</td>\n",
              "      <td>f</td>\n",
              "      <td>f</td>\n",
              "      <td>f</td>\n",
              "      <td>f</td>\n",
              "      <td>y</td>\n",
              "      <td>21.0</td>\n",
              "      <td>y</td>\n",
              "      <td>1.9</td>\n",
              "      <td>y</td>\n",
              "      <td>34.0</td>\n",
              "      <td>y</td>\n",
              "      <td>1.05</td>\n",
              "      <td>y</td>\n",
              "      <td>32.0</td>\n",
              "      <td>n</td>\n",
              "      <td>27.0</td>\n",
              "    </tr>\n",
              "    <tr>\n",
              "      <th>8</th>\n",
              "      <td>hypothyroid</td>\n",
              "      <td>20.0</td>\n",
              "      <td>F</td>\n",
              "      <td>f</td>\n",
              "      <td>f</td>\n",
              "      <td>f</td>\n",
              "      <td>f</td>\n",
              "      <td>t</td>\n",
              "      <td>f</td>\n",
              "      <td>f</td>\n",
              "      <td>f</td>\n",
              "      <td>f</td>\n",
              "      <td>f</td>\n",
              "      <td>f</td>\n",
              "      <td>y</td>\n",
              "      <td>92.0</td>\n",
              "      <td>n</td>\n",
              "      <td>1.8</td>\n",
              "      <td>y</td>\n",
              "      <td>39.0</td>\n",
              "      <td>y</td>\n",
              "      <td>1.21</td>\n",
              "      <td>y</td>\n",
              "      <td>32.0</td>\n",
              "      <td>n</td>\n",
              "      <td>27.0</td>\n",
              "    </tr>\n",
              "    <tr>\n",
              "      <th>9</th>\n",
              "      <td>hypothyroid</td>\n",
              "      <td>42.0</td>\n",
              "      <td>F</td>\n",
              "      <td>f</td>\n",
              "      <td>f</td>\n",
              "      <td>f</td>\n",
              "      <td>f</td>\n",
              "      <td>f</td>\n",
              "      <td>f</td>\n",
              "      <td>f</td>\n",
              "      <td>f</td>\n",
              "      <td>f</td>\n",
              "      <td>f</td>\n",
              "      <td>f</td>\n",
              "      <td>y</td>\n",
              "      <td>48.0</td>\n",
              "      <td>n</td>\n",
              "      <td>1.8</td>\n",
              "      <td>y</td>\n",
              "      <td>7.6</td>\n",
              "      <td>y</td>\n",
              "      <td>1.02</td>\n",
              "      <td>y</td>\n",
              "      <td>7.5</td>\n",
              "      <td>n</td>\n",
              "      <td>27.0</td>\n",
              "    </tr>\n",
              "  </tbody>\n",
              "</table>\n",
              "</div>"
            ],
            "text/plain": [
              "        status   age sex on_thyroxine query_on_thyroxine  \\\n",
              "0  hypothyroid  72.0   M            f                  f   \n",
              "1  hypothyroid  15.0   F            t                  f   \n",
              "2  hypothyroid  24.0   M            f                  f   \n",
              "3  hypothyroid  24.0   F            f                  f   \n",
              "4  hypothyroid  77.0   M            f                  f   \n",
              "5  hypothyroid  85.0   F            f                  f   \n",
              "6  hypothyroid  64.0   F            f                  f   \n",
              "7  hypothyroid  72.0   F            f                  f   \n",
              "8  hypothyroid  20.0   F            f                  f   \n",
              "9  hypothyroid  42.0   F            f                  f   \n",
              "\n",
              "  on_antithyroid_medication thyroid_surgery query_hypothyroid  \\\n",
              "0                         f               f                 f   \n",
              "1                         f               f                 f   \n",
              "2                         f               f                 f   \n",
              "3                         f               f                 f   \n",
              "4                         f               f                 f   \n",
              "5                         f               f                 t   \n",
              "6                         f               t                 f   \n",
              "7                         f               f                 f   \n",
              "8                         f               f                 t   \n",
              "9                         f               f                 f   \n",
              "\n",
              "  query_hyperthyroid pregnant sick tumor lithium goitre TSH_measured    TSH  \\\n",
              "0                  f        f    f     f       f      f            y   30.0   \n",
              "1                  f        f    f     f       f      f            y  145.0   \n",
              "2                  f        f    f     f       f      f            y    0.0   \n",
              "3                  f        f    f     f       f      f            y  430.0   \n",
              "4                  f        f    f     f       f      f            y    7.3   \n",
              "5                  f        f    f     f       f      f            y  138.0   \n",
              "6                  f        f    f     f       f      f            y    7.7   \n",
              "7                  f        f    f     f       f      f            y   21.0   \n",
              "8                  f        f    f     f       f      f            y   92.0   \n",
              "9                  f        f    f     f       f      f            y   48.0   \n",
              "\n",
              "  T3_measured   T3 TT4_measured   TT4 T4U_measured   T4U FTI_measured   FTI  \\\n",
              "0           y  0.6            y  15.0            y  1.48            y  10.0   \n",
              "1           y  1.7            y  19.0            y  1.13            y  17.0   \n",
              "2           y  0.2            y   4.0            y  1.00            y   0.0   \n",
              "3           y  0.4            y   6.0            y  1.04            y   6.0   \n",
              "4           y  1.2            y  57.0            y  1.28            y  44.0   \n",
              "5           y  1.1            y  27.0            y  1.19            y  23.0   \n",
              "6           y  1.3            y  54.0            y  0.86            y  63.0   \n",
              "7           y  1.9            y  34.0            y  1.05            y  32.0   \n",
              "8           n  1.8            y  39.0            y  1.21            y  32.0   \n",
              "9           n  1.8            y   7.6            y  1.02            y   7.5   \n",
              "\n",
              "  TBG_measured   TBG  \n",
              "0            n  27.0  \n",
              "1            n  27.0  \n",
              "2            n  27.0  \n",
              "3            n  27.0  \n",
              "4            n  27.0  \n",
              "5            n  27.0  \n",
              "6            n  27.0  \n",
              "7            n  27.0  \n",
              "8            n  27.0  \n",
              "9            n  27.0  "
            ]
          },
          "metadata": {
            "tags": []
          },
          "execution_count": 41
        }
      ]
    },
    {
      "cell_type": "code",
      "metadata": {
        "id": "RVAcjU0C26vo",
        "colab_type": "code",
        "colab": {}
      },
      "source": [
        "categoricals = ['sex','on_thyroxine','query_on_thyroxine','on_antithyroid_medication','thyroid_surgery','query_hypothyroid','query_hyperthyroid','pregnant','sick','tumor','lithium','goitre','TSH_measured','T3_measured','TT4_measured','T4U_measured','FTI_measured','TBG_measured']\n",
        "\n",
        "df = pd.get_dummies(df, columns=['sex','on_thyroxine','query_on_thyroxine','on_antithyroid_medication','thyroid_surgery','query_hypothyroid','query_hyperthyroid','pregnant','sick','tumor','lithium','goitre','TSH_measured','T3_measured','TT4_measured','T4U_measured','FTI_measured','TBG_measured'])"
      ],
      "execution_count": 0,
      "outputs": []
    },
    {
      "cell_type": "code",
      "metadata": {
        "id": "bvs5zZz33Ajz",
        "colab_type": "code",
        "colab": {
          "base_uri": "https://localhost:8080/",
          "height": 363
        },
        "outputId": "2a25d7b7-db5d-4a04-821b-d8b8c2c3bce8"
      },
      "source": [
        "df.head(10)"
      ],
      "execution_count": 43,
      "outputs": [
        {
          "output_type": "execute_result",
          "data": {
            "text/html": [
              "<div>\n",
              "<style scoped>\n",
              "    .dataframe tbody tr th:only-of-type {\n",
              "        vertical-align: middle;\n",
              "    }\n",
              "\n",
              "    .dataframe tbody tr th {\n",
              "        vertical-align: top;\n",
              "    }\n",
              "\n",
              "    .dataframe thead th {\n",
              "        text-align: right;\n",
              "    }\n",
              "</style>\n",
              "<table border=\"1\" class=\"dataframe\">\n",
              "  <thead>\n",
              "    <tr style=\"text-align: right;\">\n",
              "      <th></th>\n",
              "      <th>status</th>\n",
              "      <th>age</th>\n",
              "      <th>TSH</th>\n",
              "      <th>T3</th>\n",
              "      <th>TT4</th>\n",
              "      <th>T4U</th>\n",
              "      <th>FTI</th>\n",
              "      <th>TBG</th>\n",
              "      <th>sex_F</th>\n",
              "      <th>sex_M</th>\n",
              "      <th>sex_unknown</th>\n",
              "      <th>on_thyroxine_f</th>\n",
              "      <th>on_thyroxine_t</th>\n",
              "      <th>query_on_thyroxine_f</th>\n",
              "      <th>query_on_thyroxine_t</th>\n",
              "      <th>on_antithyroid_medication_f</th>\n",
              "      <th>on_antithyroid_medication_t</th>\n",
              "      <th>thyroid_surgery_f</th>\n",
              "      <th>thyroid_surgery_t</th>\n",
              "      <th>query_hypothyroid_f</th>\n",
              "      <th>query_hypothyroid_t</th>\n",
              "      <th>query_hyperthyroid_f</th>\n",
              "      <th>query_hyperthyroid_t</th>\n",
              "      <th>pregnant_f</th>\n",
              "      <th>pregnant_t</th>\n",
              "      <th>sick_f</th>\n",
              "      <th>sick_t</th>\n",
              "      <th>tumor_f</th>\n",
              "      <th>tumor_t</th>\n",
              "      <th>lithium_f</th>\n",
              "      <th>lithium_t</th>\n",
              "      <th>goitre_f</th>\n",
              "      <th>goitre_t</th>\n",
              "      <th>TSH_measured_n</th>\n",
              "      <th>TSH_measured_y</th>\n",
              "      <th>T3_measured_n</th>\n",
              "      <th>T3_measured_y</th>\n",
              "      <th>TT4_measured_n</th>\n",
              "      <th>TT4_measured_y</th>\n",
              "      <th>T4U_measured_n</th>\n",
              "      <th>T4U_measured_y</th>\n",
              "      <th>FTI_measured_n</th>\n",
              "      <th>FTI_measured_y</th>\n",
              "      <th>TBG_measured_n</th>\n",
              "      <th>TBG_measured_y</th>\n",
              "    </tr>\n",
              "  </thead>\n",
              "  <tbody>\n",
              "    <tr>\n",
              "      <th>0</th>\n",
              "      <td>hypothyroid</td>\n",
              "      <td>72.0</td>\n",
              "      <td>30.0</td>\n",
              "      <td>0.6</td>\n",
              "      <td>15.0</td>\n",
              "      <td>1.48</td>\n",
              "      <td>10.0</td>\n",
              "      <td>27.0</td>\n",
              "      <td>0</td>\n",
              "      <td>1</td>\n",
              "      <td>0</td>\n",
              "      <td>1</td>\n",
              "      <td>0</td>\n",
              "      <td>1</td>\n",
              "      <td>0</td>\n",
              "      <td>1</td>\n",
              "      <td>0</td>\n",
              "      <td>1</td>\n",
              "      <td>0</td>\n",
              "      <td>1</td>\n",
              "      <td>0</td>\n",
              "      <td>1</td>\n",
              "      <td>0</td>\n",
              "      <td>1</td>\n",
              "      <td>0</td>\n",
              "      <td>1</td>\n",
              "      <td>0</td>\n",
              "      <td>1</td>\n",
              "      <td>0</td>\n",
              "      <td>1</td>\n",
              "      <td>0</td>\n",
              "      <td>1</td>\n",
              "      <td>0</td>\n",
              "      <td>0</td>\n",
              "      <td>1</td>\n",
              "      <td>0</td>\n",
              "      <td>1</td>\n",
              "      <td>0</td>\n",
              "      <td>1</td>\n",
              "      <td>0</td>\n",
              "      <td>1</td>\n",
              "      <td>0</td>\n",
              "      <td>1</td>\n",
              "      <td>1</td>\n",
              "      <td>0</td>\n",
              "    </tr>\n",
              "    <tr>\n",
              "      <th>1</th>\n",
              "      <td>hypothyroid</td>\n",
              "      <td>15.0</td>\n",
              "      <td>145.0</td>\n",
              "      <td>1.7</td>\n",
              "      <td>19.0</td>\n",
              "      <td>1.13</td>\n",
              "      <td>17.0</td>\n",
              "      <td>27.0</td>\n",
              "      <td>1</td>\n",
              "      <td>0</td>\n",
              "      <td>0</td>\n",
              "      <td>0</td>\n",
              "      <td>1</td>\n",
              "      <td>1</td>\n",
              "      <td>0</td>\n",
              "      <td>1</td>\n",
              "      <td>0</td>\n",
              "      <td>1</td>\n",
              "      <td>0</td>\n",
              "      <td>1</td>\n",
              "      <td>0</td>\n",
              "      <td>1</td>\n",
              "      <td>0</td>\n",
              "      <td>1</td>\n",
              "      <td>0</td>\n",
              "      <td>1</td>\n",
              "      <td>0</td>\n",
              "      <td>1</td>\n",
              "      <td>0</td>\n",
              "      <td>1</td>\n",
              "      <td>0</td>\n",
              "      <td>1</td>\n",
              "      <td>0</td>\n",
              "      <td>0</td>\n",
              "      <td>1</td>\n",
              "      <td>0</td>\n",
              "      <td>1</td>\n",
              "      <td>0</td>\n",
              "      <td>1</td>\n",
              "      <td>0</td>\n",
              "      <td>1</td>\n",
              "      <td>0</td>\n",
              "      <td>1</td>\n",
              "      <td>1</td>\n",
              "      <td>0</td>\n",
              "    </tr>\n",
              "    <tr>\n",
              "      <th>2</th>\n",
              "      <td>hypothyroid</td>\n",
              "      <td>24.0</td>\n",
              "      <td>0.0</td>\n",
              "      <td>0.2</td>\n",
              "      <td>4.0</td>\n",
              "      <td>1.00</td>\n",
              "      <td>0.0</td>\n",
              "      <td>27.0</td>\n",
              "      <td>0</td>\n",
              "      <td>1</td>\n",
              "      <td>0</td>\n",
              "      <td>1</td>\n",
              "      <td>0</td>\n",
              "      <td>1</td>\n",
              "      <td>0</td>\n",
              "      <td>1</td>\n",
              "      <td>0</td>\n",
              "      <td>1</td>\n",
              "      <td>0</td>\n",
              "      <td>1</td>\n",
              "      <td>0</td>\n",
              "      <td>1</td>\n",
              "      <td>0</td>\n",
              "      <td>1</td>\n",
              "      <td>0</td>\n",
              "      <td>1</td>\n",
              "      <td>0</td>\n",
              "      <td>1</td>\n",
              "      <td>0</td>\n",
              "      <td>1</td>\n",
              "      <td>0</td>\n",
              "      <td>1</td>\n",
              "      <td>0</td>\n",
              "      <td>0</td>\n",
              "      <td>1</td>\n",
              "      <td>0</td>\n",
              "      <td>1</td>\n",
              "      <td>0</td>\n",
              "      <td>1</td>\n",
              "      <td>0</td>\n",
              "      <td>1</td>\n",
              "      <td>0</td>\n",
              "      <td>1</td>\n",
              "      <td>1</td>\n",
              "      <td>0</td>\n",
              "    </tr>\n",
              "    <tr>\n",
              "      <th>3</th>\n",
              "      <td>hypothyroid</td>\n",
              "      <td>24.0</td>\n",
              "      <td>430.0</td>\n",
              "      <td>0.4</td>\n",
              "      <td>6.0</td>\n",
              "      <td>1.04</td>\n",
              "      <td>6.0</td>\n",
              "      <td>27.0</td>\n",
              "      <td>1</td>\n",
              "      <td>0</td>\n",
              "      <td>0</td>\n",
              "      <td>1</td>\n",
              "      <td>0</td>\n",
              "      <td>1</td>\n",
              "      <td>0</td>\n",
              "      <td>1</td>\n",
              "      <td>0</td>\n",
              "      <td>1</td>\n",
              "      <td>0</td>\n",
              "      <td>1</td>\n",
              "      <td>0</td>\n",
              "      <td>1</td>\n",
              "      <td>0</td>\n",
              "      <td>1</td>\n",
              "      <td>0</td>\n",
              "      <td>1</td>\n",
              "      <td>0</td>\n",
              "      <td>1</td>\n",
              "      <td>0</td>\n",
              "      <td>1</td>\n",
              "      <td>0</td>\n",
              "      <td>1</td>\n",
              "      <td>0</td>\n",
              "      <td>0</td>\n",
              "      <td>1</td>\n",
              "      <td>0</td>\n",
              "      <td>1</td>\n",
              "      <td>0</td>\n",
              "      <td>1</td>\n",
              "      <td>0</td>\n",
              "      <td>1</td>\n",
              "      <td>0</td>\n",
              "      <td>1</td>\n",
              "      <td>1</td>\n",
              "      <td>0</td>\n",
              "    </tr>\n",
              "    <tr>\n",
              "      <th>4</th>\n",
              "      <td>hypothyroid</td>\n",
              "      <td>77.0</td>\n",
              "      <td>7.3</td>\n",
              "      <td>1.2</td>\n",
              "      <td>57.0</td>\n",
              "      <td>1.28</td>\n",
              "      <td>44.0</td>\n",
              "      <td>27.0</td>\n",
              "      <td>0</td>\n",
              "      <td>1</td>\n",
              "      <td>0</td>\n",
              "      <td>1</td>\n",
              "      <td>0</td>\n",
              "      <td>1</td>\n",
              "      <td>0</td>\n",
              "      <td>1</td>\n",
              "      <td>0</td>\n",
              "      <td>1</td>\n",
              "      <td>0</td>\n",
              "      <td>1</td>\n",
              "      <td>0</td>\n",
              "      <td>1</td>\n",
              "      <td>0</td>\n",
              "      <td>1</td>\n",
              "      <td>0</td>\n",
              "      <td>1</td>\n",
              "      <td>0</td>\n",
              "      <td>1</td>\n",
              "      <td>0</td>\n",
              "      <td>1</td>\n",
              "      <td>0</td>\n",
              "      <td>1</td>\n",
              "      <td>0</td>\n",
              "      <td>0</td>\n",
              "      <td>1</td>\n",
              "      <td>0</td>\n",
              "      <td>1</td>\n",
              "      <td>0</td>\n",
              "      <td>1</td>\n",
              "      <td>0</td>\n",
              "      <td>1</td>\n",
              "      <td>0</td>\n",
              "      <td>1</td>\n",
              "      <td>1</td>\n",
              "      <td>0</td>\n",
              "    </tr>\n",
              "    <tr>\n",
              "      <th>5</th>\n",
              "      <td>hypothyroid</td>\n",
              "      <td>85.0</td>\n",
              "      <td>138.0</td>\n",
              "      <td>1.1</td>\n",
              "      <td>27.0</td>\n",
              "      <td>1.19</td>\n",
              "      <td>23.0</td>\n",
              "      <td>27.0</td>\n",
              "      <td>1</td>\n",
              "      <td>0</td>\n",
              "      <td>0</td>\n",
              "      <td>1</td>\n",
              "      <td>0</td>\n",
              "      <td>1</td>\n",
              "      <td>0</td>\n",
              "      <td>1</td>\n",
              "      <td>0</td>\n",
              "      <td>1</td>\n",
              "      <td>0</td>\n",
              "      <td>0</td>\n",
              "      <td>1</td>\n",
              "      <td>1</td>\n",
              "      <td>0</td>\n",
              "      <td>1</td>\n",
              "      <td>0</td>\n",
              "      <td>1</td>\n",
              "      <td>0</td>\n",
              "      <td>1</td>\n",
              "      <td>0</td>\n",
              "      <td>1</td>\n",
              "      <td>0</td>\n",
              "      <td>1</td>\n",
              "      <td>0</td>\n",
              "      <td>0</td>\n",
              "      <td>1</td>\n",
              "      <td>0</td>\n",
              "      <td>1</td>\n",
              "      <td>0</td>\n",
              "      <td>1</td>\n",
              "      <td>0</td>\n",
              "      <td>1</td>\n",
              "      <td>0</td>\n",
              "      <td>1</td>\n",
              "      <td>1</td>\n",
              "      <td>0</td>\n",
              "    </tr>\n",
              "    <tr>\n",
              "      <th>6</th>\n",
              "      <td>hypothyroid</td>\n",
              "      <td>64.0</td>\n",
              "      <td>7.7</td>\n",
              "      <td>1.3</td>\n",
              "      <td>54.0</td>\n",
              "      <td>0.86</td>\n",
              "      <td>63.0</td>\n",
              "      <td>27.0</td>\n",
              "      <td>1</td>\n",
              "      <td>0</td>\n",
              "      <td>0</td>\n",
              "      <td>1</td>\n",
              "      <td>0</td>\n",
              "      <td>1</td>\n",
              "      <td>0</td>\n",
              "      <td>1</td>\n",
              "      <td>0</td>\n",
              "      <td>0</td>\n",
              "      <td>1</td>\n",
              "      <td>1</td>\n",
              "      <td>0</td>\n",
              "      <td>1</td>\n",
              "      <td>0</td>\n",
              "      <td>1</td>\n",
              "      <td>0</td>\n",
              "      <td>1</td>\n",
              "      <td>0</td>\n",
              "      <td>1</td>\n",
              "      <td>0</td>\n",
              "      <td>1</td>\n",
              "      <td>0</td>\n",
              "      <td>1</td>\n",
              "      <td>0</td>\n",
              "      <td>0</td>\n",
              "      <td>1</td>\n",
              "      <td>0</td>\n",
              "      <td>1</td>\n",
              "      <td>0</td>\n",
              "      <td>1</td>\n",
              "      <td>0</td>\n",
              "      <td>1</td>\n",
              "      <td>0</td>\n",
              "      <td>1</td>\n",
              "      <td>1</td>\n",
              "      <td>0</td>\n",
              "    </tr>\n",
              "    <tr>\n",
              "      <th>7</th>\n",
              "      <td>hypothyroid</td>\n",
              "      <td>72.0</td>\n",
              "      <td>21.0</td>\n",
              "      <td>1.9</td>\n",
              "      <td>34.0</td>\n",
              "      <td>1.05</td>\n",
              "      <td>32.0</td>\n",
              "      <td>27.0</td>\n",
              "      <td>1</td>\n",
              "      <td>0</td>\n",
              "      <td>0</td>\n",
              "      <td>1</td>\n",
              "      <td>0</td>\n",
              "      <td>1</td>\n",
              "      <td>0</td>\n",
              "      <td>1</td>\n",
              "      <td>0</td>\n",
              "      <td>1</td>\n",
              "      <td>0</td>\n",
              "      <td>1</td>\n",
              "      <td>0</td>\n",
              "      <td>1</td>\n",
              "      <td>0</td>\n",
              "      <td>1</td>\n",
              "      <td>0</td>\n",
              "      <td>1</td>\n",
              "      <td>0</td>\n",
              "      <td>1</td>\n",
              "      <td>0</td>\n",
              "      <td>1</td>\n",
              "      <td>0</td>\n",
              "      <td>1</td>\n",
              "      <td>0</td>\n",
              "      <td>0</td>\n",
              "      <td>1</td>\n",
              "      <td>0</td>\n",
              "      <td>1</td>\n",
              "      <td>0</td>\n",
              "      <td>1</td>\n",
              "      <td>0</td>\n",
              "      <td>1</td>\n",
              "      <td>0</td>\n",
              "      <td>1</td>\n",
              "      <td>1</td>\n",
              "      <td>0</td>\n",
              "    </tr>\n",
              "    <tr>\n",
              "      <th>8</th>\n",
              "      <td>hypothyroid</td>\n",
              "      <td>20.0</td>\n",
              "      <td>92.0</td>\n",
              "      <td>1.8</td>\n",
              "      <td>39.0</td>\n",
              "      <td>1.21</td>\n",
              "      <td>32.0</td>\n",
              "      <td>27.0</td>\n",
              "      <td>1</td>\n",
              "      <td>0</td>\n",
              "      <td>0</td>\n",
              "      <td>1</td>\n",
              "      <td>0</td>\n",
              "      <td>1</td>\n",
              "      <td>0</td>\n",
              "      <td>1</td>\n",
              "      <td>0</td>\n",
              "      <td>1</td>\n",
              "      <td>0</td>\n",
              "      <td>0</td>\n",
              "      <td>1</td>\n",
              "      <td>1</td>\n",
              "      <td>0</td>\n",
              "      <td>1</td>\n",
              "      <td>0</td>\n",
              "      <td>1</td>\n",
              "      <td>0</td>\n",
              "      <td>1</td>\n",
              "      <td>0</td>\n",
              "      <td>1</td>\n",
              "      <td>0</td>\n",
              "      <td>1</td>\n",
              "      <td>0</td>\n",
              "      <td>0</td>\n",
              "      <td>1</td>\n",
              "      <td>1</td>\n",
              "      <td>0</td>\n",
              "      <td>0</td>\n",
              "      <td>1</td>\n",
              "      <td>0</td>\n",
              "      <td>1</td>\n",
              "      <td>0</td>\n",
              "      <td>1</td>\n",
              "      <td>1</td>\n",
              "      <td>0</td>\n",
              "    </tr>\n",
              "    <tr>\n",
              "      <th>9</th>\n",
              "      <td>hypothyroid</td>\n",
              "      <td>42.0</td>\n",
              "      <td>48.0</td>\n",
              "      <td>1.8</td>\n",
              "      <td>7.6</td>\n",
              "      <td>1.02</td>\n",
              "      <td>7.5</td>\n",
              "      <td>27.0</td>\n",
              "      <td>1</td>\n",
              "      <td>0</td>\n",
              "      <td>0</td>\n",
              "      <td>1</td>\n",
              "      <td>0</td>\n",
              "      <td>1</td>\n",
              "      <td>0</td>\n",
              "      <td>1</td>\n",
              "      <td>0</td>\n",
              "      <td>1</td>\n",
              "      <td>0</td>\n",
              "      <td>1</td>\n",
              "      <td>0</td>\n",
              "      <td>1</td>\n",
              "      <td>0</td>\n",
              "      <td>1</td>\n",
              "      <td>0</td>\n",
              "      <td>1</td>\n",
              "      <td>0</td>\n",
              "      <td>1</td>\n",
              "      <td>0</td>\n",
              "      <td>1</td>\n",
              "      <td>0</td>\n",
              "      <td>1</td>\n",
              "      <td>0</td>\n",
              "      <td>0</td>\n",
              "      <td>1</td>\n",
              "      <td>1</td>\n",
              "      <td>0</td>\n",
              "      <td>0</td>\n",
              "      <td>1</td>\n",
              "      <td>0</td>\n",
              "      <td>1</td>\n",
              "      <td>0</td>\n",
              "      <td>1</td>\n",
              "      <td>1</td>\n",
              "      <td>0</td>\n",
              "    </tr>\n",
              "  </tbody>\n",
              "</table>\n",
              "</div>"
            ],
            "text/plain": [
              "        status   age    TSH   T3   TT4   T4U   FTI   TBG  sex_F  sex_M  \\\n",
              "0  hypothyroid  72.0   30.0  0.6  15.0  1.48  10.0  27.0      0      1   \n",
              "1  hypothyroid  15.0  145.0  1.7  19.0  1.13  17.0  27.0      1      0   \n",
              "2  hypothyroid  24.0    0.0  0.2   4.0  1.00   0.0  27.0      0      1   \n",
              "3  hypothyroid  24.0  430.0  0.4   6.0  1.04   6.0  27.0      1      0   \n",
              "4  hypothyroid  77.0    7.3  1.2  57.0  1.28  44.0  27.0      0      1   \n",
              "5  hypothyroid  85.0  138.0  1.1  27.0  1.19  23.0  27.0      1      0   \n",
              "6  hypothyroid  64.0    7.7  1.3  54.0  0.86  63.0  27.0      1      0   \n",
              "7  hypothyroid  72.0   21.0  1.9  34.0  1.05  32.0  27.0      1      0   \n",
              "8  hypothyroid  20.0   92.0  1.8  39.0  1.21  32.0  27.0      1      0   \n",
              "9  hypothyroid  42.0   48.0  1.8   7.6  1.02   7.5  27.0      1      0   \n",
              "\n",
              "   sex_unknown  on_thyroxine_f  on_thyroxine_t  query_on_thyroxine_f  \\\n",
              "0            0               1               0                     1   \n",
              "1            0               0               1                     1   \n",
              "2            0               1               0                     1   \n",
              "3            0               1               0                     1   \n",
              "4            0               1               0                     1   \n",
              "5            0               1               0                     1   \n",
              "6            0               1               0                     1   \n",
              "7            0               1               0                     1   \n",
              "8            0               1               0                     1   \n",
              "9            0               1               0                     1   \n",
              "\n",
              "   query_on_thyroxine_t  on_antithyroid_medication_f  \\\n",
              "0                     0                            1   \n",
              "1                     0                            1   \n",
              "2                     0                            1   \n",
              "3                     0                            1   \n",
              "4                     0                            1   \n",
              "5                     0                            1   \n",
              "6                     0                            1   \n",
              "7                     0                            1   \n",
              "8                     0                            1   \n",
              "9                     0                            1   \n",
              "\n",
              "   on_antithyroid_medication_t  thyroid_surgery_f  thyroid_surgery_t  \\\n",
              "0                            0                  1                  0   \n",
              "1                            0                  1                  0   \n",
              "2                            0                  1                  0   \n",
              "3                            0                  1                  0   \n",
              "4                            0                  1                  0   \n",
              "5                            0                  1                  0   \n",
              "6                            0                  0                  1   \n",
              "7                            0                  1                  0   \n",
              "8                            0                  1                  0   \n",
              "9                            0                  1                  0   \n",
              "\n",
              "   query_hypothyroid_f  query_hypothyroid_t  query_hyperthyroid_f  \\\n",
              "0                    1                    0                     1   \n",
              "1                    1                    0                     1   \n",
              "2                    1                    0                     1   \n",
              "3                    1                    0                     1   \n",
              "4                    1                    0                     1   \n",
              "5                    0                    1                     1   \n",
              "6                    1                    0                     1   \n",
              "7                    1                    0                     1   \n",
              "8                    0                    1                     1   \n",
              "9                    1                    0                     1   \n",
              "\n",
              "   query_hyperthyroid_t  pregnant_f  pregnant_t  sick_f  sick_t  tumor_f  \\\n",
              "0                     0           1           0       1       0        1   \n",
              "1                     0           1           0       1       0        1   \n",
              "2                     0           1           0       1       0        1   \n",
              "3                     0           1           0       1       0        1   \n",
              "4                     0           1           0       1       0        1   \n",
              "5                     0           1           0       1       0        1   \n",
              "6                     0           1           0       1       0        1   \n",
              "7                     0           1           0       1       0        1   \n",
              "8                     0           1           0       1       0        1   \n",
              "9                     0           1           0       1       0        1   \n",
              "\n",
              "   tumor_t  lithium_f  lithium_t  goitre_f  goitre_t  TSH_measured_n  \\\n",
              "0        0          1          0         1         0               0   \n",
              "1        0          1          0         1         0               0   \n",
              "2        0          1          0         1         0               0   \n",
              "3        0          1          0         1         0               0   \n",
              "4        0          1          0         1         0               0   \n",
              "5        0          1          0         1         0               0   \n",
              "6        0          1          0         1         0               0   \n",
              "7        0          1          0         1         0               0   \n",
              "8        0          1          0         1         0               0   \n",
              "9        0          1          0         1         0               0   \n",
              "\n",
              "   TSH_measured_y  T3_measured_n  T3_measured_y  TT4_measured_n  \\\n",
              "0               1              0              1               0   \n",
              "1               1              0              1               0   \n",
              "2               1              0              1               0   \n",
              "3               1              0              1               0   \n",
              "4               1              0              1               0   \n",
              "5               1              0              1               0   \n",
              "6               1              0              1               0   \n",
              "7               1              0              1               0   \n",
              "8               1              1              0               0   \n",
              "9               1              1              0               0   \n",
              "\n",
              "   TT4_measured_y  T4U_measured_n  T4U_measured_y  FTI_measured_n  \\\n",
              "0               1               0               1               0   \n",
              "1               1               0               1               0   \n",
              "2               1               0               1               0   \n",
              "3               1               0               1               0   \n",
              "4               1               0               1               0   \n",
              "5               1               0               1               0   \n",
              "6               1               0               1               0   \n",
              "7               1               0               1               0   \n",
              "8               1               0               1               0   \n",
              "9               1               0               1               0   \n",
              "\n",
              "   FTI_measured_y  TBG_measured_n  TBG_measured_y  \n",
              "0               1               1               0  \n",
              "1               1               1               0  \n",
              "2               1               1               0  \n",
              "3               1               1               0  \n",
              "4               1               1               0  \n",
              "5               1               1               0  \n",
              "6               1               1               0  \n",
              "7               1               1               0  \n",
              "8               1               1               0  \n",
              "9               1               1               0  "
            ]
          },
          "metadata": {
            "tags": []
          },
          "execution_count": 43
        }
      ]
    },
    {
      "cell_type": "markdown",
      "metadata": {
        "id": "Zu2JgRnh3Mop",
        "colab_type": "text"
      },
      "source": [
        "\n",
        "Part 1 (RandomForest/AdaBoost)\n",
        "Build a model that determines whether or not the patient's symptoms indicate that the patient has hypothyroid. You should make use of at least 2 out of 3 advanced models : Random forests, Ada boosted trees, and gradient boosted trees.\n",
        "\n",
        "Try and optimize each of the 2 models, making sure to document how you've set up your hyperparameters.\n",
        "\n",
        "-Identify which of the 2 models you trust most, and use your model to determine which features are most impactful in influencing the prediction."
      ]
    },
    {
      "cell_type": "markdown",
      "metadata": {
        "id": "0D-vDern3R_s",
        "colab_type": "text"
      },
      "source": [
        "### Random Forest\n"
      ]
    },
    {
      "cell_type": "code",
      "metadata": {
        "id": "FyUZYTB13OZI",
        "colab_type": "code",
        "colab": {
          "base_uri": "https://localhost:8080/",
          "height": 215
        },
        "outputId": "17b754fd-dade-4c2e-8f46-4b54b37798c3"
      },
      "source": [
        "#Load our dataset after pre-processing\n",
        "\n",
        "df.head()"
      ],
      "execution_count": 44,
      "outputs": [
        {
          "output_type": "execute_result",
          "data": {
            "text/html": [
              "<div>\n",
              "<style scoped>\n",
              "    .dataframe tbody tr th:only-of-type {\n",
              "        vertical-align: middle;\n",
              "    }\n",
              "\n",
              "    .dataframe tbody tr th {\n",
              "        vertical-align: top;\n",
              "    }\n",
              "\n",
              "    .dataframe thead th {\n",
              "        text-align: right;\n",
              "    }\n",
              "</style>\n",
              "<table border=\"1\" class=\"dataframe\">\n",
              "  <thead>\n",
              "    <tr style=\"text-align: right;\">\n",
              "      <th></th>\n",
              "      <th>status</th>\n",
              "      <th>age</th>\n",
              "      <th>TSH</th>\n",
              "      <th>T3</th>\n",
              "      <th>TT4</th>\n",
              "      <th>T4U</th>\n",
              "      <th>FTI</th>\n",
              "      <th>TBG</th>\n",
              "      <th>sex_F</th>\n",
              "      <th>sex_M</th>\n",
              "      <th>sex_unknown</th>\n",
              "      <th>on_thyroxine_f</th>\n",
              "      <th>on_thyroxine_t</th>\n",
              "      <th>query_on_thyroxine_f</th>\n",
              "      <th>query_on_thyroxine_t</th>\n",
              "      <th>on_antithyroid_medication_f</th>\n",
              "      <th>on_antithyroid_medication_t</th>\n",
              "      <th>thyroid_surgery_f</th>\n",
              "      <th>thyroid_surgery_t</th>\n",
              "      <th>query_hypothyroid_f</th>\n",
              "      <th>query_hypothyroid_t</th>\n",
              "      <th>query_hyperthyroid_f</th>\n",
              "      <th>query_hyperthyroid_t</th>\n",
              "      <th>pregnant_f</th>\n",
              "      <th>pregnant_t</th>\n",
              "      <th>sick_f</th>\n",
              "      <th>sick_t</th>\n",
              "      <th>tumor_f</th>\n",
              "      <th>tumor_t</th>\n",
              "      <th>lithium_f</th>\n",
              "      <th>lithium_t</th>\n",
              "      <th>goitre_f</th>\n",
              "      <th>goitre_t</th>\n",
              "      <th>TSH_measured_n</th>\n",
              "      <th>TSH_measured_y</th>\n",
              "      <th>T3_measured_n</th>\n",
              "      <th>T3_measured_y</th>\n",
              "      <th>TT4_measured_n</th>\n",
              "      <th>TT4_measured_y</th>\n",
              "      <th>T4U_measured_n</th>\n",
              "      <th>T4U_measured_y</th>\n",
              "      <th>FTI_measured_n</th>\n",
              "      <th>FTI_measured_y</th>\n",
              "      <th>TBG_measured_n</th>\n",
              "      <th>TBG_measured_y</th>\n",
              "    </tr>\n",
              "  </thead>\n",
              "  <tbody>\n",
              "    <tr>\n",
              "      <th>0</th>\n",
              "      <td>hypothyroid</td>\n",
              "      <td>72.0</td>\n",
              "      <td>30.0</td>\n",
              "      <td>0.6</td>\n",
              "      <td>15.0</td>\n",
              "      <td>1.48</td>\n",
              "      <td>10.0</td>\n",
              "      <td>27.0</td>\n",
              "      <td>0</td>\n",
              "      <td>1</td>\n",
              "      <td>0</td>\n",
              "      <td>1</td>\n",
              "      <td>0</td>\n",
              "      <td>1</td>\n",
              "      <td>0</td>\n",
              "      <td>1</td>\n",
              "      <td>0</td>\n",
              "      <td>1</td>\n",
              "      <td>0</td>\n",
              "      <td>1</td>\n",
              "      <td>0</td>\n",
              "      <td>1</td>\n",
              "      <td>0</td>\n",
              "      <td>1</td>\n",
              "      <td>0</td>\n",
              "      <td>1</td>\n",
              "      <td>0</td>\n",
              "      <td>1</td>\n",
              "      <td>0</td>\n",
              "      <td>1</td>\n",
              "      <td>0</td>\n",
              "      <td>1</td>\n",
              "      <td>0</td>\n",
              "      <td>0</td>\n",
              "      <td>1</td>\n",
              "      <td>0</td>\n",
              "      <td>1</td>\n",
              "      <td>0</td>\n",
              "      <td>1</td>\n",
              "      <td>0</td>\n",
              "      <td>1</td>\n",
              "      <td>0</td>\n",
              "      <td>1</td>\n",
              "      <td>1</td>\n",
              "      <td>0</td>\n",
              "    </tr>\n",
              "    <tr>\n",
              "      <th>1</th>\n",
              "      <td>hypothyroid</td>\n",
              "      <td>15.0</td>\n",
              "      <td>145.0</td>\n",
              "      <td>1.7</td>\n",
              "      <td>19.0</td>\n",
              "      <td>1.13</td>\n",
              "      <td>17.0</td>\n",
              "      <td>27.0</td>\n",
              "      <td>1</td>\n",
              "      <td>0</td>\n",
              "      <td>0</td>\n",
              "      <td>0</td>\n",
              "      <td>1</td>\n",
              "      <td>1</td>\n",
              "      <td>0</td>\n",
              "      <td>1</td>\n",
              "      <td>0</td>\n",
              "      <td>1</td>\n",
              "      <td>0</td>\n",
              "      <td>1</td>\n",
              "      <td>0</td>\n",
              "      <td>1</td>\n",
              "      <td>0</td>\n",
              "      <td>1</td>\n",
              "      <td>0</td>\n",
              "      <td>1</td>\n",
              "      <td>0</td>\n",
              "      <td>1</td>\n",
              "      <td>0</td>\n",
              "      <td>1</td>\n",
              "      <td>0</td>\n",
              "      <td>1</td>\n",
              "      <td>0</td>\n",
              "      <td>0</td>\n",
              "      <td>1</td>\n",
              "      <td>0</td>\n",
              "      <td>1</td>\n",
              "      <td>0</td>\n",
              "      <td>1</td>\n",
              "      <td>0</td>\n",
              "      <td>1</td>\n",
              "      <td>0</td>\n",
              "      <td>1</td>\n",
              "      <td>1</td>\n",
              "      <td>0</td>\n",
              "    </tr>\n",
              "    <tr>\n",
              "      <th>2</th>\n",
              "      <td>hypothyroid</td>\n",
              "      <td>24.0</td>\n",
              "      <td>0.0</td>\n",
              "      <td>0.2</td>\n",
              "      <td>4.0</td>\n",
              "      <td>1.00</td>\n",
              "      <td>0.0</td>\n",
              "      <td>27.0</td>\n",
              "      <td>0</td>\n",
              "      <td>1</td>\n",
              "      <td>0</td>\n",
              "      <td>1</td>\n",
              "      <td>0</td>\n",
              "      <td>1</td>\n",
              "      <td>0</td>\n",
              "      <td>1</td>\n",
              "      <td>0</td>\n",
              "      <td>1</td>\n",
              "      <td>0</td>\n",
              "      <td>1</td>\n",
              "      <td>0</td>\n",
              "      <td>1</td>\n",
              "      <td>0</td>\n",
              "      <td>1</td>\n",
              "      <td>0</td>\n",
              "      <td>1</td>\n",
              "      <td>0</td>\n",
              "      <td>1</td>\n",
              "      <td>0</td>\n",
              "      <td>1</td>\n",
              "      <td>0</td>\n",
              "      <td>1</td>\n",
              "      <td>0</td>\n",
              "      <td>0</td>\n",
              "      <td>1</td>\n",
              "      <td>0</td>\n",
              "      <td>1</td>\n",
              "      <td>0</td>\n",
              "      <td>1</td>\n",
              "      <td>0</td>\n",
              "      <td>1</td>\n",
              "      <td>0</td>\n",
              "      <td>1</td>\n",
              "      <td>1</td>\n",
              "      <td>0</td>\n",
              "    </tr>\n",
              "    <tr>\n",
              "      <th>3</th>\n",
              "      <td>hypothyroid</td>\n",
              "      <td>24.0</td>\n",
              "      <td>430.0</td>\n",
              "      <td>0.4</td>\n",
              "      <td>6.0</td>\n",
              "      <td>1.04</td>\n",
              "      <td>6.0</td>\n",
              "      <td>27.0</td>\n",
              "      <td>1</td>\n",
              "      <td>0</td>\n",
              "      <td>0</td>\n",
              "      <td>1</td>\n",
              "      <td>0</td>\n",
              "      <td>1</td>\n",
              "      <td>0</td>\n",
              "      <td>1</td>\n",
              "      <td>0</td>\n",
              "      <td>1</td>\n",
              "      <td>0</td>\n",
              "      <td>1</td>\n",
              "      <td>0</td>\n",
              "      <td>1</td>\n",
              "      <td>0</td>\n",
              "      <td>1</td>\n",
              "      <td>0</td>\n",
              "      <td>1</td>\n",
              "      <td>0</td>\n",
              "      <td>1</td>\n",
              "      <td>0</td>\n",
              "      <td>1</td>\n",
              "      <td>0</td>\n",
              "      <td>1</td>\n",
              "      <td>0</td>\n",
              "      <td>0</td>\n",
              "      <td>1</td>\n",
              "      <td>0</td>\n",
              "      <td>1</td>\n",
              "      <td>0</td>\n",
              "      <td>1</td>\n",
              "      <td>0</td>\n",
              "      <td>1</td>\n",
              "      <td>0</td>\n",
              "      <td>1</td>\n",
              "      <td>1</td>\n",
              "      <td>0</td>\n",
              "    </tr>\n",
              "    <tr>\n",
              "      <th>4</th>\n",
              "      <td>hypothyroid</td>\n",
              "      <td>77.0</td>\n",
              "      <td>7.3</td>\n",
              "      <td>1.2</td>\n",
              "      <td>57.0</td>\n",
              "      <td>1.28</td>\n",
              "      <td>44.0</td>\n",
              "      <td>27.0</td>\n",
              "      <td>0</td>\n",
              "      <td>1</td>\n",
              "      <td>0</td>\n",
              "      <td>1</td>\n",
              "      <td>0</td>\n",
              "      <td>1</td>\n",
              "      <td>0</td>\n",
              "      <td>1</td>\n",
              "      <td>0</td>\n",
              "      <td>1</td>\n",
              "      <td>0</td>\n",
              "      <td>1</td>\n",
              "      <td>0</td>\n",
              "      <td>1</td>\n",
              "      <td>0</td>\n",
              "      <td>1</td>\n",
              "      <td>0</td>\n",
              "      <td>1</td>\n",
              "      <td>0</td>\n",
              "      <td>1</td>\n",
              "      <td>0</td>\n",
              "      <td>1</td>\n",
              "      <td>0</td>\n",
              "      <td>1</td>\n",
              "      <td>0</td>\n",
              "      <td>0</td>\n",
              "      <td>1</td>\n",
              "      <td>0</td>\n",
              "      <td>1</td>\n",
              "      <td>0</td>\n",
              "      <td>1</td>\n",
              "      <td>0</td>\n",
              "      <td>1</td>\n",
              "      <td>0</td>\n",
              "      <td>1</td>\n",
              "      <td>1</td>\n",
              "      <td>0</td>\n",
              "    </tr>\n",
              "  </tbody>\n",
              "</table>\n",
              "</div>"
            ],
            "text/plain": [
              "        status   age    TSH   T3   TT4   T4U   FTI   TBG  sex_F  sex_M  \\\n",
              "0  hypothyroid  72.0   30.0  0.6  15.0  1.48  10.0  27.0      0      1   \n",
              "1  hypothyroid  15.0  145.0  1.7  19.0  1.13  17.0  27.0      1      0   \n",
              "2  hypothyroid  24.0    0.0  0.2   4.0  1.00   0.0  27.0      0      1   \n",
              "3  hypothyroid  24.0  430.0  0.4   6.0  1.04   6.0  27.0      1      0   \n",
              "4  hypothyroid  77.0    7.3  1.2  57.0  1.28  44.0  27.0      0      1   \n",
              "\n",
              "   sex_unknown  on_thyroxine_f  on_thyroxine_t  query_on_thyroxine_f  \\\n",
              "0            0               1               0                     1   \n",
              "1            0               0               1                     1   \n",
              "2            0               1               0                     1   \n",
              "3            0               1               0                     1   \n",
              "4            0               1               0                     1   \n",
              "\n",
              "   query_on_thyroxine_t  on_antithyroid_medication_f  \\\n",
              "0                     0                            1   \n",
              "1                     0                            1   \n",
              "2                     0                            1   \n",
              "3                     0                            1   \n",
              "4                     0                            1   \n",
              "\n",
              "   on_antithyroid_medication_t  thyroid_surgery_f  thyroid_surgery_t  \\\n",
              "0                            0                  1                  0   \n",
              "1                            0                  1                  0   \n",
              "2                            0                  1                  0   \n",
              "3                            0                  1                  0   \n",
              "4                            0                  1                  0   \n",
              "\n",
              "   query_hypothyroid_f  query_hypothyroid_t  query_hyperthyroid_f  \\\n",
              "0                    1                    0                     1   \n",
              "1                    1                    0                     1   \n",
              "2                    1                    0                     1   \n",
              "3                    1                    0                     1   \n",
              "4                    1                    0                     1   \n",
              "\n",
              "   query_hyperthyroid_t  pregnant_f  pregnant_t  sick_f  sick_t  tumor_f  \\\n",
              "0                     0           1           0       1       0        1   \n",
              "1                     0           1           0       1       0        1   \n",
              "2                     0           1           0       1       0        1   \n",
              "3                     0           1           0       1       0        1   \n",
              "4                     0           1           0       1       0        1   \n",
              "\n",
              "   tumor_t  lithium_f  lithium_t  goitre_f  goitre_t  TSH_measured_n  \\\n",
              "0        0          1          0         1         0               0   \n",
              "1        0          1          0         1         0               0   \n",
              "2        0          1          0         1         0               0   \n",
              "3        0          1          0         1         0               0   \n",
              "4        0          1          0         1         0               0   \n",
              "\n",
              "   TSH_measured_y  T3_measured_n  T3_measured_y  TT4_measured_n  \\\n",
              "0               1              0              1               0   \n",
              "1               1              0              1               0   \n",
              "2               1              0              1               0   \n",
              "3               1              0              1               0   \n",
              "4               1              0              1               0   \n",
              "\n",
              "   TT4_measured_y  T4U_measured_n  T4U_measured_y  FTI_measured_n  \\\n",
              "0               1               0               1               0   \n",
              "1               1               0               1               0   \n",
              "2               1               0               1               0   \n",
              "3               1               0               1               0   \n",
              "4               1               0               1               0   \n",
              "\n",
              "   FTI_measured_y  TBG_measured_n  TBG_measured_y  \n",
              "0               1               1               0  \n",
              "1               1               1               0  \n",
              "2               1               1               0  \n",
              "3               1               1               0  \n",
              "4               1               1               0  "
            ]
          },
          "metadata": {
            "tags": []
          },
          "execution_count": 44
        }
      ]
    },
    {
      "cell_type": "code",
      "metadata": {
        "id": "CU8ckTeK3g5X",
        "colab_type": "code",
        "colab": {}
      },
      "source": [
        "\n",
        "#Define the dependent variable and independent variable ; what's your target variable?\n",
        "\n",
        "X = df.iloc[:,1:44]\n",
        "y = df.iloc[:,0]"
      ],
      "execution_count": 0,
      "outputs": []
    },
    {
      "cell_type": "code",
      "metadata": {
        "id": "Cv7ZL9t84Ear",
        "colab_type": "code",
        "colab": {}
      },
      "source": [
        "\n",
        "#Split the data into train and test sets ; train with 70% of the data\n",
        "\n",
        "X_train, X_test, y_train, y_test = train_test_split(X, y, test_size = 0.3, random_state = 42)"
      ],
      "execution_count": 0,
      "outputs": []
    },
    {
      "cell_type": "code",
      "metadata": {
        "id": "wF8q6B1l4bQF",
        "colab_type": "code",
        "colab": {}
      },
      "source": [
        "#Feature Scaling\n",
        "\n",
        "sc_X = StandardScaler()\n",
        "X_train = sc_X.fit_transform(X_train)\n",
        "X_test = sc_X.transform(X_test)"
      ],
      "execution_count": 0,
      "outputs": []
    },
    {
      "cell_type": "code",
      "metadata": {
        "id": "daKZEttQ4dqI",
        "colab_type": "code",
        "colab": {
          "base_uri": "https://localhost:8080/",
          "height": 151
        },
        "outputId": "613d8b3d-004a-41e3-e2ea-e5c53063b839"
      },
      "source": [
        "\n",
        "#Train your model\n",
        "\n",
        "classifier = RandomForestClassifier(n_estimators = 100, random_state = 40, min_samples_split = 20, max_depth = 5)\n",
        "classifier.fit(X_train,y_train)"
      ],
      "execution_count": 51,
      "outputs": [
        {
          "output_type": "execute_result",
          "data": {
            "text/plain": [
              "RandomForestClassifier(bootstrap=True, ccp_alpha=0.0, class_weight=None,\n",
              "                       criterion='gini', max_depth=5, max_features='auto',\n",
              "                       max_leaf_nodes=None, max_samples=None,\n",
              "                       min_impurity_decrease=0.0, min_impurity_split=None,\n",
              "                       min_samples_leaf=1, min_samples_split=20,\n",
              "                       min_weight_fraction_leaf=0.0, n_estimators=100,\n",
              "                       n_jobs=None, oob_score=False, random_state=40, verbose=0,\n",
              "                       warm_start=False)"
            ]
          },
          "metadata": {
            "tags": []
          },
          "execution_count": 51
        }
      ]
    },
    {
      "cell_type": "code",
      "metadata": {
        "id": "5QcDQcTP4kGP",
        "colab_type": "code",
        "colab": {}
      },
      "source": [
        "\n",
        "# Predicting the test set results\n",
        "\n",
        "y_pred = classifier.predict(X_test)"
      ],
      "execution_count": 0,
      "outputs": []
    },
    {
      "cell_type": "code",
      "metadata": {
        "id": "-PfQq4DR4olN",
        "colab_type": "code",
        "colab": {
          "base_uri": "https://localhost:8080/",
          "height": 50
        },
        "outputId": "cba814c8-be67-4a9c-ff0e-9e903bf5fb03"
      },
      "source": [
        "\n",
        "#Confusion matrix \n",
        "\n",
        "cm = confusion_matrix(y_test, y_pred)\n",
        "cm"
      ],
      "execution_count": 53,
      "outputs": [
        {
          "output_type": "execute_result",
          "data": {
            "text/plain": [
              "array([[ 22,  12],\n",
              "       [  2, 867]])"
            ]
          },
          "metadata": {
            "tags": []
          },
          "execution_count": 53
        }
      ]
    },
    {
      "cell_type": "code",
      "metadata": {
        "id": "lLAK7npE4rZP",
        "colab_type": "code",
        "colab": {
          "base_uri": "https://localhost:8080/",
          "height": 34
        },
        "outputId": "715a8fda-66a4-43b8-e7ad-cd917f11e7fd"
      },
      "source": [
        "\n",
        "#Accuracy\n",
        "\n",
        "accuracy = accuracy_score(y_test,y_pred)\n",
        "accuracy"
      ],
      "execution_count": 54,
      "outputs": [
        {
          "output_type": "execute_result",
          "data": {
            "text/plain": [
              "0.9844961240310077"
            ]
          },
          "metadata": {
            "tags": []
          },
          "execution_count": 54
        }
      ]
    },
    {
      "cell_type": "code",
      "metadata": {
        "id": "XG1Xwg4C4vVu",
        "colab_type": "code",
        "colab": {
          "base_uri": "https://localhost:8080/",
          "height": 34
        },
        "outputId": "02915cfc-1fe7-4622-ab4a-764ade04c715"
      },
      "source": [
        "\n",
        "print('The accuracy of the Random Forest Classifier is',accuracy*100,'%')"
      ],
      "execution_count": 55,
      "outputs": [
        {
          "output_type": "stream",
          "text": [
            "The accuracy of the Random Forest Classifier is 98.44961240310077 %\n"
          ],
          "name": "stdout"
        }
      ]
    },
    {
      "cell_type": "markdown",
      "metadata": {
        "id": "632EK0i34xvS",
        "colab_type": "text"
      },
      "source": [
        "Visualization of a random forest tree\n",
        "\n"
      ]
    },
    {
      "cell_type": "code",
      "metadata": {
        "id": "78inB_xr4y6a",
        "colab_type": "code",
        "colab": {
          "base_uri": "https://localhost:8080/",
          "height": 70
        },
        "outputId": "47efb4e1-61a1-4b1c-f624-4f84db08ecf7"
      },
      "source": [
        "from sklearn.tree import export_graphviz\n",
        "from sklearn.externals.six import StringIO  \n",
        "from IPython.display import Image  \n",
        "import pydotplus"
      ],
      "execution_count": 56,
      "outputs": [
        {
          "output_type": "stream",
          "text": [
            "/usr/local/lib/python3.6/dist-packages/sklearn/externals/six.py:31: FutureWarning: The module is deprecated in version 0.21 and will be removed in version 0.23 since we've dropped support for Python 2.7. Please rely on the official version of six (https://pypi.org/project/six/).\n",
            "  \"(https://pypi.org/project/six/).\", FutureWarning)\n"
          ],
          "name": "stderr"
        }
      ]
    },
    {
      "cell_type": "code",
      "metadata": {
        "id": "qasjKoOP44ep",
        "colab_type": "code",
        "colab": {
          "base_uri": "https://localhost:8080/",
          "height": 812
        },
        "outputId": "eb593e36-82b2-4913-8fa8-c9d837e61edc"
      },
      "source": [
        "# Visualizing tree number 20\n",
        "\n",
        "y_pred = classifier.predict(X_test)\n",
        "dot_data = StringIO()\n",
        "\n",
        "# picking a specific tree from the forest; tree  number 10\n",
        "tree = classifier.estimators_[10]\n",
        "\n",
        "export_graphviz(tree, out_file=dot_data,  \n",
        "                filled=True, rounded=True,\n",
        "                special_characters=True,feature_names = X.columns)\n",
        "graph = pydotplus.graph_from_dot_data(dot_data.getvalue())  \n",
        "graph.write_png('Hypothyroid_Test.png')\n",
        "Image(graph.create_png())"
      ],
      "execution_count": 57,
      "outputs": [
        {
          "output_type": "execute_result",
          "data": {
            "image/png": "[encoded data removed]",
            "text/plain": [
              "<IPython.core.display.Image object>"
            ]
          },
          "metadata": {
            "tags": []
          },
          "execution_count": 57
        }
      ]
    },
    {
      "cell_type": "code",
      "metadata": {
        "id": "vw63xiCG5KCN",
        "colab_type": "code",
        "colab": {
          "base_uri": "https://localhost:8080/",
          "height": 739
        },
        "outputId": "9ffa07f6-9998-4eb6-f256-0081edb54e21"
      },
      "source": [
        "# Feature importance\n",
        "\n",
        "# Get numerical feature importances\n",
        "importances = list(tree.feature_importances_)\n",
        "\n",
        "# List of tuples with variable and importance\n",
        "feature_importances = [(feature, round(importance, 2)) for feature, importance in zip(X.columns, importances)]\n",
        "\n",
        "# Sorting the values in descending order, since we want to see the most important features first.\n",
        "feature_importances = sorted(feature_importances, key = lambda x: x[1], reverse = True)\n",
        "\n",
        "# Print out the feature and importances \n",
        "[print('Variable: {:20} Importance: {}'.format(*pair)) for pair in feature_importances];"
      ],
      "execution_count": 58,
      "outputs": [
        {
          "output_type": "stream",
          "text": [
            "Variable: FTI                  Importance: 0.9\n",
            "Variable: TSH                  Importance: 0.05\n",
            "Variable: T3                   Importance: 0.03\n",
            "Variable: on_thyroxine_t       Importance: 0.01\n",
            "Variable: TBG_measured_n       Importance: 0.01\n",
            "Variable: age                  Importance: 0.0\n",
            "Variable: TT4                  Importance: 0.0\n",
            "Variable: T4U                  Importance: 0.0\n",
            "Variable: TBG                  Importance: 0.0\n",
            "Variable: sex_F                Importance: 0.0\n",
            "Variable: sex_M                Importance: 0.0\n",
            "Variable: sex_unknown          Importance: 0.0\n",
            "Variable: on_thyroxine_f       Importance: 0.0\n",
            "Variable: query_on_thyroxine_f Importance: 0.0\n",
            "Variable: query_on_thyroxine_t Importance: 0.0\n",
            "Variable: on_antithyroid_medication_f Importance: 0.0\n",
            "Variable: on_antithyroid_medication_t Importance: 0.0\n",
            "Variable: thyroid_surgery_f    Importance: 0.0\n",
            "Variable: thyroid_surgery_t    Importance: 0.0\n",
            "Variable: query_hypothyroid_f  Importance: 0.0\n",
            "Variable: query_hypothyroid_t  Importance: 0.0\n",
            "Variable: query_hyperthyroid_f Importance: 0.0\n",
            "Variable: query_hyperthyroid_t Importance: 0.0\n",
            "Variable: pregnant_f           Importance: 0.0\n",
            "Variable: pregnant_t           Importance: 0.0\n",
            "Variable: sick_f               Importance: 0.0\n",
            "Variable: sick_t               Importance: 0.0\n",
            "Variable: tumor_f              Importance: 0.0\n",
            "Variable: tumor_t              Importance: 0.0\n",
            "Variable: lithium_f            Importance: 0.0\n",
            "Variable: lithium_t            Importance: 0.0\n",
            "Variable: goitre_f             Importance: 0.0\n",
            "Variable: goitre_t             Importance: 0.0\n",
            "Variable: TSH_measured_n       Importance: 0.0\n",
            "Variable: TSH_measured_y       Importance: 0.0\n",
            "Variable: T3_measured_n        Importance: 0.0\n",
            "Variable: T3_measured_y        Importance: 0.0\n",
            "Variable: TT4_measured_n       Importance: 0.0\n",
            "Variable: TT4_measured_y       Importance: 0.0\n",
            "Variable: T4U_measured_n       Importance: 0.0\n",
            "Variable: T4U_measured_y       Importance: 0.0\n",
            "Variable: FTI_measured_n       Importance: 0.0\n",
            "Variable: FTI_measured_y       Importance: 0.0\n"
          ],
          "name": "stdout"
        }
      ]
    },
    {
      "cell_type": "code",
      "metadata": {
        "id": "ywFW3Vzl5VLK",
        "colab_type": "code",
        "colab": {
          "base_uri": "https://localhost:8080/",
          "height": 690
        },
        "outputId": "465b930e-d89e-4bfc-a254-edee9999d937"
      },
      "source": [
        "# list of Features and their importances for plotting\n",
        "# Specifying the grid size and display for easier viewing\n",
        "\n",
        "sns.set(style = 'whitegrid')\n",
        "\n",
        "plt.figure(dpi = 100, figsize = (15,5))\n",
        "\n",
        "x_values = list(range(len(importances)))\n",
        "\n",
        "# Making a bar chart\n",
        "plt.bar(x_values, importances, orientation = 'vertical')\n",
        "\n",
        "# Labels and ticks for x axis\n",
        "plt.xticks(x_values, X.columns, rotation= 'vertical')\n",
        "\n",
        "# Labeling y axis and title\n",
        "plt.ylabel('Importance'); plt.xlabel('Variable'); plt.title('Variable Importances');"
      ],
      "execution_count": 59,
      "outputs": [
        {
          "output_type": "display_data",
          "data": {
            "image/png": "[encoded data removed]",
            "text/plain": [
              "<Figure size 1500x500 with 1 Axes>"
            ]
          },
          "metadata": {
            "tags": []
          }
        }
      ]
    },
    {
      "cell_type": "markdown",
      "metadata": {
        "id": "cAh2_f1r5Ywg",
        "colab_type": "text"
      },
      "source": [
        "Optimization of Random Forest\n",
        "\n"
      ]
    },
    {
      "cell_type": "code",
      "metadata": {
        "id": "LDvY2-IE5Z37",
        "colab_type": "code",
        "colab": {
          "base_uri": "https://localhost:8080/",
          "height": 437
        },
        "outputId": "e07e1b08-ef9a-40f8-8273-0f33a4b967d2"
      },
      "source": [
        "from pprint import pprint\n",
        "\n",
        "# Number of trees in random forest\n",
        "n_estimators = [int(x) for x in np.linspace(start = 100, stop = 2000, num = 20)]\n",
        "# Number of features to consider at every split\n",
        "max_features = ['auto', 'sqrt']\n",
        "# Maximum number of levels in tree\n",
        "max_depth = [int(x) for x in np.linspace(10, 110, num = 11)]\n",
        "max_depth.append(None)\n",
        "# Minimum number of samples required to split a node\n",
        "min_samples_split = [2, 5, 10]\n",
        "# Minimum number of samples required at each leaf node\n",
        "min_samples_leaf = [1, 2, 4]\n",
        "# Method of selecting samples for training each tree\n",
        "bootstrap = [True, False]\n",
        "# Create the random grid\n",
        "random_grid = {'n_estimators': n_estimators,\n",
        "              'max_features': max_features,\n",
        "              'max_depth': max_depth,\n",
        "              'min_samples_split': min_samples_split,\n",
        "              'min_samples_leaf': min_samples_leaf,\n",
        "              'bootstrap': bootstrap}\n",
        "pprint(random_grid)"
      ],
      "execution_count": 60,
      "outputs": [
        {
          "output_type": "stream",
          "text": [
            "{'bootstrap': [True, False],\n",
            " 'max_depth': [10, 20, 30, 40, 50, 60, 70, 80, 90, 100, 110, None],\n",
            " 'max_features': ['auto', 'sqrt'],\n",
            " 'min_samples_leaf': [1, 2, 4],\n",
            " 'min_samples_split': [2, 5, 10],\n",
            " 'n_estimators': [100,\n",
            "                  200,\n",
            "                  300,\n",
            "                  400,\n",
            "                  500,\n",
            "                  600,\n",
            "                  700,\n",
            "                  800,\n",
            "                  900,\n",
            "                  1000,\n",
            "                  1100,\n",
            "                  1200,\n",
            "                  1300,\n",
            "                  1400,\n",
            "                  1500,\n",
            "                  1600,\n",
            "                  1700,\n",
            "                  1800,\n",
            "                  1900,\n",
            "                  2000]}\n"
          ],
          "name": "stdout"
        }
      ]
    },
    {
      "cell_type": "code",
      "metadata": {
        "id": "bSvkdZn75h-r",
        "colab_type": "code",
        "colab": {}
      },
      "source": [
        "\n",
        "# Use the random grid to search for best hyperparameters\n",
        "# First create the base model to tune\n",
        "rf = RandomForestRegressor()\n",
        "# Random search of parameters, using 3 fold cross validation, \n",
        "# search across 100 different combinations, and use all available cores\n",
        "rf_random = RandomizedSearchCV(estimator = rf, param_distributions = random_grid, n_iter = 100, cv = 3, verbose=2, random_state=42,n_jobs = -1)"
      ],
      "execution_count": 0,
      "outputs": []
    },
    {
      "cell_type": "code",
      "metadata": {
        "id": "uD8wsH_U5k82",
        "colab_type": "code",
        "colab": {}
      },
      "source": [
        "\n",
        "# Fit the random search model\n",
        "rf_random.fit(X_train,y_train)"
      ],
      "execution_count": 0,
      "outputs": []
    },
    {
      "cell_type": "code",
      "metadata": {
        "id": "KkoOq8jx51B3",
        "colab_type": "code",
        "colab": {
          "base_uri": "https://localhost:8080/",
          "height": 118
        },
        "outputId": "38aff5aa-b378-497f-8840-d8ce5c5e2bc1"
      },
      "source": [
        "rf_random.best_params_\n"
      ],
      "execution_count": 65,
      "outputs": [
        {
          "output_type": "execute_result",
          "data": {
            "text/plain": [
              "{'bootstrap': False,\n",
              " 'max_depth': 70,\n",
              " 'max_features': 'sqrt',\n",
              " 'min_samples_leaf': 4,\n",
              " 'min_samples_split': 5,\n",
              " 'n_estimators': 600}"
            ]
          },
          "metadata": {
            "tags": []
          },
          "execution_count": 65
        }
      ]
    },
    {
      "cell_type": "code",
      "metadata": {
        "id": "AQQEs0-P59LI",
        "colab_type": "code",
        "colab": {
          "base_uri": "https://localhost:8080/",
          "height": 34
        },
        "outputId": "9bd02166-fd44-4ece-b4a1-78e6d8d96097"
      },
      "source": [
        "\n",
        "forestOpt = RandomForestClassifier(bootstrap=True,\n",
        "                                  max_depth=70,\n",
        "                                  min_samples_leaf=4,\n",
        "                                  min_samples_split=10,\n",
        "                                  n_estimators=400\n",
        "                                  )\n",
        "\n",
        "modelOpt = forestOpt.fit(X_train, y_train)\n",
        "\n",
        "y_pred = modelOpt.predict(X_test)\n",
        "\n",
        "#Find the accuracy\n",
        "\n",
        "acc = accuracy_score(y_test,y_pred)\n",
        "acc"
      ],
      "execution_count": 66,
      "outputs": [
        {
          "output_type": "execute_result",
          "data": {
            "text/plain": [
              "0.9856035437430787"
            ]
          },
          "metadata": {
            "tags": []
          },
          "execution_count": 66
        }
      ]
    },
    {
      "cell_type": "code",
      "metadata": {
        "id": "sHfImyxr6AHw",
        "colab_type": "code",
        "colab": {
          "base_uri": "https://localhost:8080/",
          "height": 34
        },
        "outputId": "965bfd83-d27e-4ad9-f7b3-edd52d610696"
      },
      "source": [
        "print('The accuracy of the Random Forest Classifier after hyperparameter tuning is',acc*100,'%')\n"
      ],
      "execution_count": 67,
      "outputs": [
        {
          "output_type": "stream",
          "text": [
            "The accuracy of the Random Forest Classifier after hyperparameter tuning is 98.56035437430786 %\n"
          ],
          "name": "stdout"
        }
      ]
    },
    {
      "cell_type": "markdown",
      "metadata": {
        "id": "r1SgGxGG6Eci",
        "colab_type": "text"
      },
      "source": [
        "The accuracy of the model seems to go down after hyperparamter tuning.\n",
        "\n"
      ]
    },
    {
      "cell_type": "markdown",
      "metadata": {
        "id": "79s5bOqG6Hkk",
        "colab_type": "text"
      },
      "source": [
        "## AdaBoost Classifier\n"
      ]
    },
    {
      "cell_type": "code",
      "metadata": {
        "id": "tnva1G2M6FrA",
        "colab_type": "code",
        "colab": {}
      },
      "source": [
        "\n",
        "#Split the dataset and define the target variable and independent variables\n",
        "\n",
        "X = df.iloc[:,1:44]\n",
        "y = df.iloc[:,0]"
      ],
      "execution_count": 0,
      "outputs": []
    },
    {
      "cell_type": "code",
      "metadata": {
        "id": "XZL0wLMP6ZbH",
        "colab_type": "code",
        "colab": {}
      },
      "source": [
        "#Split into test and train data\n",
        "\n",
        "X_train, X_test, y_train, y_test = train_test_split(X, y, random_state=42)"
      ],
      "execution_count": 0,
      "outputs": []
    },
    {
      "cell_type": "code",
      "metadata": {
        "id": "2n3biyiB6cE5",
        "colab_type": "code",
        "colab": {
          "base_uri": "https://localhost:8080/",
          "height": 286
        },
        "outputId": "06c7e4d4-dd6c-4789-89d6-b29ff216c07b"
      },
      "source": [
        "\n",
        "#Train the model using the AdaBoost Classifier\n",
        "\n",
        "classifier = AdaBoostClassifier(DecisionTreeClassifier(max_depth=1),n_estimators=100)\n",
        "\n",
        "classifier.fit(X_train, y_train)"
      ],
      "execution_count": 72,
      "outputs": [
        {
          "output_type": "execute_result",
          "data": {
            "text/plain": [
              "AdaBoostClassifier(algorithm='SAMME.R',\n",
              "                   base_estimator=DecisionTreeClassifier(ccp_alpha=0.0,\n",
              "                                                         class_weight=None,\n",
              "                                                         criterion='gini',\n",
              "                                                         max_depth=1,\n",
              "                                                         max_features=None,\n",
              "                                                         max_leaf_nodes=None,\n",
              "                                                         min_impurity_decrease=0.0,\n",
              "                                                         min_impurity_split=None,\n",
              "                                                         min_samples_leaf=1,\n",
              "                                                         min_samples_split=2,\n",
              "                                                         min_weight_fraction_leaf=0.0,\n",
              "                                                         presort='deprecated',\n",
              "                                                         random_state=None,\n",
              "                                                         splitter='best'),\n",
              "                   learning_rate=1.0, n_estimators=100, random_state=None)"
            ]
          },
          "metadata": {
            "tags": []
          },
          "execution_count": 72
        }
      ]
    },
    {
      "cell_type": "code",
      "metadata": {
        "id": "k3SMa7No6ffc",
        "colab_type": "code",
        "colab": {}
      },
      "source": [
        "\n",
        "#Prediction\n",
        "\n",
        "predictions = classifier.predict(X_test)"
      ],
      "execution_count": 0,
      "outputs": []
    },
    {
      "cell_type": "code",
      "metadata": {
        "id": "wcRQFT3Z6l6v",
        "colab_type": "code",
        "colab": {
          "base_uri": "https://localhost:8080/",
          "height": 50
        },
        "outputId": "79320778-6e6c-40ad-d6f9-f0f0eaeffd6d"
      },
      "source": [
        "\n",
        "#Confusion matrix\n",
        "\n",
        "confusion_matrix(y_test, predictions)"
      ],
      "execution_count": 75,
      "outputs": [
        {
          "output_type": "execute_result",
          "data": {
            "text/plain": [
              "array([[ 25,   6],\n",
              "       [  5, 717]])"
            ]
          },
          "metadata": {
            "tags": []
          },
          "execution_count": 75
        }
      ]
    },
    {
      "cell_type": "code",
      "metadata": {
        "id": "vUikJelv6qfA",
        "colab_type": "code",
        "colab": {
          "base_uri": "https://localhost:8080/",
          "height": 34
        },
        "outputId": "0fa54ac6-dcc2-48f7-fe34-d0fac1017c53"
      },
      "source": [
        "#Accuracy\n",
        "\n",
        "accuracy = accuracy_score(y_test,predictions)\n",
        "\n",
        "accuracy"
      ],
      "execution_count": 76,
      "outputs": [
        {
          "output_type": "execute_result",
          "data": {
            "text/plain": [
              "0.9853917662682603"
            ]
          },
          "metadata": {
            "tags": []
          },
          "execution_count": 76
        }
      ]
    },
    {
      "cell_type": "code",
      "metadata": {
        "id": "ecWgNF566s7K",
        "colab_type": "code",
        "colab": {
          "base_uri": "https://localhost:8080/",
          "height": 34
        },
        "outputId": "339cb61a-47c0-4566-f492-96677aef4f23"
      },
      "source": [
        "print('The accuracy of the AdaBoost Classifier is',accuracy*100,'%')\n"
      ],
      "execution_count": 77,
      "outputs": [
        {
          "output_type": "stream",
          "text": [
            "The accuracy of the AdaBoost Classifier is 98.53917662682603 %\n"
          ],
          "name": "stdout"
        }
      ]
    },
    {
      "cell_type": "markdown",
      "metadata": {
        "id": "D2AbtKgS6xIl",
        "colab_type": "text"
      },
      "source": [
        "Conclusion of part 1\n",
        "\n",
        "The accuracy of the AdaBoost Classifier is 98.70466321243524 %\n",
        "\n",
        "The accuracy of the Random Forest Classifier is 98.48812095032397 %\n",
        "\n",
        "The accuracy of the AdaBoost classifier is higher the Random Forest Classifier.\n",
        "\n",
        "\n"
      ]
    },
    {
      "cell_type": "markdown",
      "metadata": {
        "id": "1tPVoR3q65Aj",
        "colab_type": "text"
      },
      "source": [
        "# Part 2 (Support Vector Machines)\n",
        "\n",
        "- Apply Polynomial, linear and rbf kernel function to build your SVM model and then evaluate their performance and pick the kernel that performs the best.\n",
        "\n",
        "- Remember to tune your parameters to improve the performance of your model. To make your life easier, make sure to visualize the models you've created. Use any two features to build the models for this step.\n",
        "\n",
        "- Hint: You may want to use decision trees to give you the most preferable features you can use. but also keep in mind that those features might not be suitable for SVM. It might be a good idea to graph them first.\n",
        "\n",
        "- After getting your best performing kernel, use this kernel together with your tuned parameters and repeat the prediction but this time using additional features. Compare the model you've just created with the 2-features version.\n",
        "\n",
        "SVMs requires careful preprocessing of the data and tuning of the parameters. This is why, these days, most people instead use tree-based models such as random forests or gradient boosting (which require little or no preprocessing) in many applications.\n",
        "\n",
        "Parameters to tune:\n",
        "\n",
        "- Kernel\n",
        "- C\n",
        "- Gamma\n",
        "\n",
        "\n",
        "**rbf kernel**\n",
        "\n"
      ]
    },
    {
      "cell_type": "code",
      "metadata": {
        "id": "6FZb4_SX7Tre",
        "colab_type": "code",
        "colab": {}
      },
      "source": [
        "svc_model = SVC(kernel= 'rbf',gamma='scale',C=1.0)\n"
      ],
      "execution_count": 0,
      "outputs": []
    },
    {
      "cell_type": "code",
      "metadata": {
        "id": "1sCsFu2r7WKS",
        "colab_type": "code",
        "colab": {
          "base_uri": "https://localhost:8080/",
          "height": 84
        },
        "outputId": "c128c06a-9124-4202-dca1-6a0a624a9d11"
      },
      "source": [
        "svc_model.fit(X_train, y_train)\n"
      ],
      "execution_count": 83,
      "outputs": [
        {
          "output_type": "execute_result",
          "data": {
            "text/plain": [
              "SVC(C=1.0, break_ties=False, cache_size=200, class_weight=None, coef0=0.0,\n",
              "    decision_function_shape='ovr', degree=3, gamma='scale', kernel='rbf',\n",
              "    max_iter=-1, probability=False, random_state=None, shrinking=True,\n",
              "    tol=0.001, verbose=False)"
            ]
          },
          "metadata": {
            "tags": []
          },
          "execution_count": 83
        }
      ]
    },
    {
      "cell_type": "code",
      "metadata": {
        "id": "1WTCHsp17tm7",
        "colab_type": "code",
        "colab": {}
      },
      "source": [
        "y_predict = svc_model.predict(X_test)\n"
      ],
      "execution_count": 0,
      "outputs": []
    },
    {
      "cell_type": "code",
      "metadata": {
        "id": "z6NbTtik7vkG",
        "colab_type": "code",
        "colab": {
          "base_uri": "https://localhost:8080/",
          "height": 168
        },
        "outputId": "339c1c95-ffa9-4a19-a65e-6fcabddef693"
      },
      "source": [
        "print(classification_report(y_test,y_predict))\n"
      ],
      "execution_count": 85,
      "outputs": [
        {
          "output_type": "stream",
          "text": [
            "              precision    recall  f1-score   support\n",
            "\n",
            " hypothyroid       0.91      0.68      0.78        31\n",
            "    negative       0.99      1.00      0.99       722\n",
            "\n",
            "    accuracy                           0.98       753\n",
            "   macro avg       0.95      0.84      0.88       753\n",
            "weighted avg       0.98      0.98      0.98       753\n",
            "\n"
          ],
          "name": "stdout"
        }
      ]
    },
    {
      "cell_type": "markdown",
      "metadata": {
        "id": "swN3jSOM7ytG",
        "colab_type": "text"
      },
      "source": [
        "The average precision is 0.91\n",
        "\n"
      ]
    },
    {
      "cell_type": "markdown",
      "metadata": {
        "id": "XZS7GDHg71_5",
        "colab_type": "text"
      },
      "source": [
        "**Linear** **Kernel**\n",
        "\n"
      ]
    },
    {
      "cell_type": "code",
      "metadata": {
        "id": "8fbo3zrJ7yVg",
        "colab_type": "code",
        "colab": {}
      },
      "source": [
        "svc_model = SVC(kernel= 'linear',gamma='scale',C=1.0)\n"
      ],
      "execution_count": 0,
      "outputs": []
    },
    {
      "cell_type": "code",
      "metadata": {
        "id": "iO6lwa-gAlNK",
        "colab_type": "code",
        "colab": {
          "base_uri": "https://localhost:8080/",
          "height": 84
        },
        "outputId": "8c9bd55e-f341-4e04-9a8e-6f506a9bd1bf"
      },
      "source": [
        "svc_model.fit(X_train, y_train)\n"
      ],
      "execution_count": 90,
      "outputs": [
        {
          "output_type": "execute_result",
          "data": {
            "text/plain": [
              "SVC(C=1.0, break_ties=False, cache_size=200, class_weight=None, coef0=0.0,\n",
              "    decision_function_shape='ovr', degree=3, gamma='scale', kernel='linear',\n",
              "    max_iter=-1, probability=False, random_state=None, shrinking=True,\n",
              "    tol=0.001, verbose=False)"
            ]
          },
          "metadata": {
            "tags": []
          },
          "execution_count": 90
        }
      ]
    },
    {
      "cell_type": "code",
      "metadata": {
        "id": "kSmENGUOA0Vp",
        "colab_type": "code",
        "colab": {}
      },
      "source": [
        "y_predict = svc_model.predict(X_test)\n"
      ],
      "execution_count": 0,
      "outputs": []
    },
    {
      "cell_type": "code",
      "metadata": {
        "id": "uc43QttnA2IX",
        "colab_type": "code",
        "colab": {
          "base_uri": "https://localhost:8080/",
          "height": 168
        },
        "outputId": "a1f313d3-90e8-445f-edf6-4d4d8ede2019"
      },
      "source": [
        "print(classification_report(y_test,y_predict))\n"
      ],
      "execution_count": 92,
      "outputs": [
        {
          "output_type": "stream",
          "text": [
            "              precision    recall  f1-score   support\n",
            "\n",
            " hypothyroid       0.91      0.68      0.78        31\n",
            "    negative       0.99      1.00      0.99       722\n",
            "\n",
            "    accuracy                           0.98       753\n",
            "   macro avg       0.95      0.84      0.88       753\n",
            "weighted avg       0.98      0.98      0.98       753\n",
            "\n"
          ],
          "name": "stdout"
        }
      ]
    },
    {
      "cell_type": "markdown",
      "metadata": {
        "id": "QOegRBxGA5SD",
        "colab_type": "text"
      },
      "source": [
        "The average precision is 0.98\n",
        "\n"
      ]
    },
    {
      "cell_type": "markdown",
      "metadata": {
        "id": "li01KBMDA7y9",
        "colab_type": "text"
      },
      "source": [
        "**Polynomial** **Kernel**\n"
      ]
    },
    {
      "cell_type": "code",
      "metadata": {
        "id": "SdCmllgNA34Z",
        "colab_type": "code",
        "colab": {}
      },
      "source": [
        "svc_model = SVC(kernel= 'poly',gamma='scale',C=1.0)\n"
      ],
      "execution_count": 0,
      "outputs": []
    },
    {
      "cell_type": "code",
      "metadata": {
        "id": "AWt0l5fXBC2U",
        "colab_type": "code",
        "colab": {
          "base_uri": "https://localhost:8080/",
          "height": 84
        },
        "outputId": "86e383cb-a3b7-4ebc-9658-8199cd0e3901"
      },
      "source": [
        "svc_model.fit(X_train, y_train)\n"
      ],
      "execution_count": 96,
      "outputs": [
        {
          "output_type": "execute_result",
          "data": {
            "text/plain": [
              "SVC(C=1.0, break_ties=False, cache_size=200, class_weight=None, coef0=0.0,\n",
              "    decision_function_shape='ovr', degree=3, gamma='scale', kernel='poly',\n",
              "    max_iter=-1, probability=False, random_state=None, shrinking=True,\n",
              "    tol=0.001, verbose=False)"
            ]
          },
          "metadata": {
            "tags": []
          },
          "execution_count": 96
        }
      ]
    },
    {
      "cell_type": "code",
      "metadata": {
        "id": "oj_7dkqjBHKG",
        "colab_type": "code",
        "colab": {}
      },
      "source": [
        "y_predict = svc_model.predict(X_test)\n"
      ],
      "execution_count": 0,
      "outputs": []
    },
    {
      "cell_type": "code",
      "metadata": {
        "id": "cXP_xd-8BIze",
        "colab_type": "code",
        "colab": {
          "base_uri": "https://localhost:8080/",
          "height": 168
        },
        "outputId": "5e5b35c3-c4a8-4bf8-ee41-362195ba98b1"
      },
      "source": [
        "print(classification_report(y_test,y_predict))\n"
      ],
      "execution_count": 98,
      "outputs": [
        {
          "output_type": "stream",
          "text": [
            "              precision    recall  f1-score   support\n",
            "\n",
            " hypothyroid       0.94      0.48      0.64        31\n",
            "    negative       0.98      1.00      0.99       722\n",
            "\n",
            "    accuracy                           0.98       753\n",
            "   macro avg       0.96      0.74      0.81       753\n",
            "weighted avg       0.98      0.98      0.97       753\n",
            "\n"
          ],
          "name": "stdout"
        }
      ]
    },
    {
      "cell_type": "markdown",
      "metadata": {
        "id": "1bnMeWntBMJt",
        "colab_type": "text"
      },
      "source": [
        "The linear kernel shows a higher level of precision than the other kernels with a macro avg and weighted avg higher than the other kernels."
      ]
    },
    {
      "cell_type": "code",
      "metadata": {
        "id": "CRfq6YoPBNIC",
        "colab_type": "code",
        "colab": {
          "base_uri": "https://localhost:8080/",
          "height": 202
        },
        "outputId": "60b05aea-3770-462d-9750-884ddac0f7e0"
      },
      "source": [
        "\n",
        "#What features are of higher importance in the SVM model\n",
        "\n",
        "svm = LinearSVC()\n",
        "svm = svm.fit(X_train, y_train)\n",
        "pred = svm.predict(X_test)\n",
        "cf = svm.coef_\n",
        "\n",
        "cf\n"
      ],
      "execution_count": 99,
      "outputs": [
        {
          "output_type": "stream",
          "text": [
            "/usr/local/lib/python3.6/dist-packages/sklearn/svm/_base.py:947: ConvergenceWarning: Liblinear failed to converge, increase the number of iterations.\n",
            "  \"the number of iterations.\", ConvergenceWarning)\n"
          ],
          "name": "stderr"
        },
        {
          "output_type": "execute_result",
          "data": {
            "text/plain": [
              "array([[ 0.00627619, -0.0094743 ,  0.20749968, -0.00208684, -0.03850258,\n",
              "         0.01515591, -0.01236568,  0.133198  ,  0.01334649, -0.14223683,\n",
              "        -0.16122096,  0.16552862, -0.00527788,  0.00958554, -0.18383871,\n",
              "         0.18814637,  0.08220555, -0.07789789, -0.09443817,  0.09874583,\n",
              "         0.01579047, -0.01148281, -0.03097069,  0.03527835, -0.16408569,\n",
              "         0.16839335, -0.02214169,  0.02644935, -0.01044043,  0.01474809,\n",
              "         0.09806909, -0.09376143,  0.20214876, -0.1978411 , -0.08291655,\n",
              "         0.08722421,  0.01328436, -0.0089767 ,  0.01328436, -0.0089767 ,\n",
              "         0.01328436, -0.0089767 , -0.0180694 ]])"
            ]
          },
          "metadata": {
            "tags": []
          },
          "execution_count": 99
        }
      ]
    },
    {
      "cell_type": "code",
      "metadata": {
        "id": "5qbgjzceBRvd",
        "colab_type": "code",
        "colab": {
          "base_uri": "https://localhost:8080/",
          "height": 218
        },
        "outputId": "6954c153-0538-4036-ee0d-b6b257836f7d"
      },
      "source": [
        "X_train.columns\n"
      ],
      "execution_count": 100,
      "outputs": [
        {
          "output_type": "execute_result",
          "data": {
            "text/plain": [
              "Index(['age', 'TSH', 'T3', 'TT4', 'T4U', 'FTI', 'TBG', 'sex_F', 'sex_M',\n",
              "       'sex_unknown', 'on_thyroxine_f', 'on_thyroxine_t',\n",
              "       'query_on_thyroxine_f', 'query_on_thyroxine_t',\n",
              "       'on_antithyroid_medication_f', 'on_antithyroid_medication_t',\n",
              "       'thyroid_surgery_f', 'thyroid_surgery_t', 'query_hypothyroid_f',\n",
              "       'query_hypothyroid_t', 'query_hyperthyroid_f', 'query_hyperthyroid_t',\n",
              "       'pregnant_f', 'pregnant_t', 'sick_f', 'sick_t', 'tumor_f', 'tumor_t',\n",
              "       'lithium_f', 'lithium_t', 'goitre_f', 'goitre_t', 'TSH_measured_n',\n",
              "       'TSH_measured_y', 'T3_measured_n', 'T3_measured_y', 'TT4_measured_n',\n",
              "       'TT4_measured_y', 'T4U_measured_n', 'T4U_measured_y', 'FTI_measured_n',\n",
              "       'FTI_measured_y', 'TBG_measured_n'],\n",
              "      dtype='object')"
            ]
          },
          "metadata": {
            "tags": []
          },
          "execution_count": 100
        }
      ]
    },
    {
      "cell_type": "markdown",
      "metadata": {
        "id": "bVxw-LDmBV4s",
        "colab_type": "text"
      },
      "source": [
        "SVM after parameter tuning\n",
        "\n"
      ]
    },
    {
      "cell_type": "code",
      "metadata": {
        "id": "yYxRJfOYBXuT",
        "colab_type": "code",
        "colab": {}
      },
      "source": [
        "svc_model = SVC(kernel= 'linear',gamma='scale',C=1.0)\n"
      ],
      "execution_count": 0,
      "outputs": []
    },
    {
      "cell_type": "code",
      "metadata": {
        "id": "22sE755gBbCE",
        "colab_type": "code",
        "colab": {
          "base_uri": "https://localhost:8080/",
          "height": 84
        },
        "outputId": "35da4224-6ece-4152-cf66-60424c54776c"
      },
      "source": [
        "svc_model.fit(X_train, y_train)\n"
      ],
      "execution_count": 102,
      "outputs": [
        {
          "output_type": "execute_result",
          "data": {
            "text/plain": [
              "SVC(C=1.0, break_ties=False, cache_size=200, class_weight=None, coef0=0.0,\n",
              "    decision_function_shape='ovr', degree=3, gamma='scale', kernel='linear',\n",
              "    max_iter=-1, probability=False, random_state=None, shrinking=True,\n",
              "    tol=0.001, verbose=False)"
            ]
          },
          "metadata": {
            "tags": []
          },
          "execution_count": 102
        }
      ]
    },
    {
      "cell_type": "code",
      "metadata": {
        "id": "beGZPEd7Bc0e",
        "colab_type": "code",
        "colab": {}
      },
      "source": [
        "y_predict = svc_model.predict(X_test)\n"
      ],
      "execution_count": 0,
      "outputs": []
    },
    {
      "cell_type": "code",
      "metadata": {
        "id": "AmMD2mqYBemM",
        "colab_type": "code",
        "colab": {
          "base_uri": "https://localhost:8080/",
          "height": 168
        },
        "outputId": "c54eb670-5b01-42b9-86a8-c584acfb0ffe"
      },
      "source": [
        "print(classification_report(y_test,y_predict))\n"
      ],
      "execution_count": 104,
      "outputs": [
        {
          "output_type": "stream",
          "text": [
            "              precision    recall  f1-score   support\n",
            "\n",
            " hypothyroid       0.91      0.68      0.78        31\n",
            "    negative       0.99      1.00      0.99       722\n",
            "\n",
            "    accuracy                           0.98       753\n",
            "   macro avg       0.95      0.84      0.88       753\n",
            "weighted avg       0.98      0.98      0.98       753\n",
            "\n"
          ],
          "name": "stdout"
        }
      ]
    },
    {
      "cell_type": "markdown",
      "metadata": {
        "id": "EMFdxxNhCNVb",
        "colab_type": "text"
      },
      "source": [
        "The average precision remains the same at 0.98"
      ]
    }
  ]
}